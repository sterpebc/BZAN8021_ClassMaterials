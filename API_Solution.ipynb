{
 "cells": [
  {
   "cell_type": "code",
   "execution_count": null,
   "id": "b4ac17d7-f31f-441e-8404-89ef0b3c9589",
   "metadata": {},
   "outputs": [],
   "source": [
    "import requests\n",
    "\n",
    "uri = 'https://finnhub.io/api/v1/quote'\n",
    "\n",
    "ticker = input('Enter a ticker symbol: ')\n",
    "params = {'symbol': ticker, 'token': 'ZZZZZZZZZZZZ'}\n",
    "\n",
    "response_object = requests.get(uri, params=params)\n",
    "python_object = response_object.json()\n",
    "\n",
    "print(python_object)"
   ]
  }
 ],
 "metadata": {
  "kernelspec": {
   "display_name": "Python 3 (ipykernel)",
   "language": "python",
   "name": "python3"
  },
  "language_info": {
   "codemirror_mode": {
    "name": "ipython",
    "version": 3
   },
   "file_extension": ".py",
   "mimetype": "text/x-python",
   "name": "python",
   "nbconvert_exporter": "python",
   "pygments_lexer": "ipython3",
   "version": "3.10.10"
  }
 },
 "nbformat": 4,
 "nbformat_minor": 5
}
