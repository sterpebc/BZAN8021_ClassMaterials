{
 "cells": [
  {
   "cell_type": "code",
   "execution_count": null,
   "id": "b4ac17d7-f31f-441e-8404-89ef0b3c9589",
   "metadata": {},
   "outputs": [],
   "source": [
    "import urllib.request\n",
    "import json\n",
    "\n",
    "base = 'https://finnhub.io/api/v1/quote'\n",
    "param1 = 'symbol='\n",
    "param2 = 'token=bqgomgfrh5r8lcmqaa50'\n",
    "\n",
    "ticker = input('Enter a ticker symbol: ')\n",
    "param1 = param1 + ticker\n",
    "\n",
    "response_object = urllib.request.urlopen(base + '?' + param1 + '&' + param2)\n",
    "response_string = response_object.read()\n",
    "\n",
    "python_object = json.loads(response_string)\n",
    "print(python_object)"
   ]
  }
 ],
 "metadata": {
  "kernelspec": {
   "display_name": "Python 3 (ipykernel)",
   "language": "python",
   "name": "python3"
  },
  "language_info": {
   "codemirror_mode": {
    "name": "ipython",
    "version": 3
   },
   "file_extension": ".py",
   "mimetype": "text/x-python",
   "name": "python",
   "nbconvert_exporter": "python",
   "pygments_lexer": "ipython3",
   "version": "3.9.12"
  }
 },
 "nbformat": 4,
 "nbformat_minor": 5
}
