{
 "cells": [
  {
   "cell_type": "markdown",
   "metadata": {},
   "source": [
    "# List and Dictionary Challenge: Voting Data\n",
    "\n",
    "Assume you have a file of election data. Each line represents 1 vote and says which candidate got the vote and which city it came from, e.g.:\n",
    "```\n",
    "Zhong, X;Newton\n",
    "Smith, J;Needham\n",
    "Smith, J;Newton\n",
    "Tedeschi;Sudbury\n",
    "Zhong, X;Boston\n",
    "Zhong, X;Newton\n",
    "Tedeschi;Framingham\n",
    "```\n",
    "\n",
    "Suppose you need to print election results formatted like this:\n",
    "```\n",
    "     Zhong, X\n",
    "        Boston 680\n",
    "        Newton 512\n",
    "     Smith, J\n",
    "        Newton 546\n",
    "        Needham 419\n",
    "        Wellesley 337\n",
    "     Tedeschi, P\n",
    "        Framingham 601\n",
    "        Sudbury 285\n",
    "```"
   ]
  },
  {
   "cell_type": "markdown",
   "metadata": {},
   "source": [
    "1. Design how you would represent the voting data in Python (using dictionaries)\n",
    "2. Devise an algorithm (pseudocode) to print the report above (don't worry about how to sort it)\n",
    "3. Code it in Python. Use the file `votedata.txt` so you have some data to work with."
   ]
  },
  {
   "cell_type": "markdown",
   "metadata": {},
   "source": [
    "### Design ideas"
   ]
  },
  {
   "cell_type": "markdown",
   "metadata": {},
   "source": []
  },
  {
   "cell_type": "markdown",
   "metadata": {},
   "source": [
    "### Pseudocode (part English, part Python)"
   ]
  },
  {
   "cell_type": "markdown",
   "metadata": {},
   "source": []
  },
  {
   "cell_type": "markdown",
   "metadata": {},
   "source": [
    "### Code"
   ]
  },
  {
   "cell_type": "code",
   "execution_count": null,
   "metadata": {},
   "outputs": [],
   "source": [
    "# Python goes here"
   ]
  }
 ],
 "metadata": {
  "kernelspec": {
   "display_name": "base",
   "language": "python",
   "name": "python3"
  },
  "language_info": {
   "name": "python",
   "version": "3.11.3"
  }
 },
 "nbformat": 4,
 "nbformat_minor": 2
}
