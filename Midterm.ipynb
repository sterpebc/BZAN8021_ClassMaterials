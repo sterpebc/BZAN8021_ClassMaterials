{
 "cells": [
  {
   "cell_type": "markdown",
   "id": "09d739ee-9aa0-4e6f-b6ab-fb1077b4b798",
   "metadata": {},
   "source": [
    "# BZAN8021 -- Spring 2024 -- Midterm"
   ]
  },
  {
   "cell_type": "markdown",
   "id": "581acea5-6452-4e99-a1ee-058c23a873cd",
   "metadata": {},
   "source": [
    "## Problem 1 (10 points)\n",
    "\n",
    "Imagine you put D dollars in a bank account. Periodically, the bank calculates some percentage of your balance as interest and adds that amount to your account. (This is compound interest.) For example, suppose you put $100 in the bank, and the bank pays 1% interest each period:\n",
    "```\n",
    "    When                    Amount in your account\n",
    "    -----------------------------------------------\n",
    "    Initially               100.00\n",
    "    After 1 period          Interest = 1% of 100.00 = 1.00, which is added, so\n",
    "                            your account then has 101.00\n",
    "    After 2 periods         Interest = 1% of 101.00 = 1.01, which is added, so\n",
    "                            your account then has 102.01.\n",
    "```\n",
    "The formula for how much money you will have after t periods of time is...\n",
    "\n",
    "$D(1 + r)^t$\n",
    "\n",
    "…where…\n",
    "* D is your original deposit\n",
    "* r is the interest rate (as a fraction, so for 2% interest, use r = 0.02)\n",
    "\n",
    "Write a function named _periods_ (spell it correctly; it ends with ’s’) that takes 3 arguments, all floats: an initial deposit amount (D from the discussion above), and an interest rate (r from the discussion above), and a target amount. Your function should calculate how many periods it will take for the account balance to meet or exceed the target. It should then return this value (it should be an integer).\n",
    "\n",
    "**You must do this by looping; do not just solve the equation for t.**\n",
    "\n",
    "You should test your code to check that it's correct. Here are some test cases:\n",
    "```\n",
    "periods(100, .01, 105)   --> returns 5\n",
    "periods(500, .03, 1000)  --> returns 24\n",
    "```"
   ]
  },
  {
   "cell_type": "code",
   "execution_count": 1,
   "id": "b82db82d-678b-4466-aad5-916b987f09aa",
   "metadata": {},
   "outputs": [],
   "source": [
    "# Your Problem 1 code goes here..."
   ]
  },
  {
   "cell_type": "markdown",
   "id": "e283d83a",
   "metadata": {},
   "source": [
    "## Problem 2 (15 points)\n",
    "\n",
    "A marketing metric used by many organizations is the Net Promoter Score. A company collects responses to a question such as, “On a scale from 0 to 10, how likely are you to recommend us to a friend or family member?” Anyone who answers 9 or 10 is considered a _promoter_. Anyone who answers in the range 0 to 6 (inclusive) is a _detractor_. The Net Promoter Score is then:\n",
    "\n",
    "`% of promoters - % of detractors`\n",
    "\n",
    "The `% of promoters` is the percentage of all responses that are 9 or 10. Similarly, the `% of detractors` is the percentage of all responses that are in the 0 - 6 range (inclusive). Write a function named _nps_ that takes one argument, a list of integers that represent several responses to the question above. Based on the description above, your function should calculate the Net Promoter Score and return it as a float between -1 and 1. (In other words, don’t multiply the score by 100; if it comes out to .23, return .23, not 23.) Do not worry about rounding.\n",
    "\n",
    "You may assume that the argument list contains at least one value, and that all values are integers between 0 and 10.\n",
    "\n",
    "**Test Cases**\n",
    "```\n",
    "nps([3, 5, 3, 2, 7, 3, 6, 0, 5, 5, 2, 3, 9, 0, 0, 6, 6, 10, 0, 1]) --> -.75\n",
    "nps([9])     --> 1.0\n",
    "nps([8, 9])  --> 0.5\n",
    "nps([6])     --> -1.0\n",
    "```"
   ]
  },
  {
   "cell_type": "code",
   "execution_count": null,
   "id": "8cb26280",
   "metadata": {},
   "outputs": [],
   "source": [
    "# Your Problem 2 code goes here..."
   ]
  },
  {
   "cell_type": "markdown",
   "id": "cb1f18f4",
   "metadata": {},
   "source": [
    "## Problem 3 (25 points)\n",
    "\n",
    "In its _random_ module, Python has a function named _random_ that generates random numbers between 0 (inclusive) and 1 (exclusive). Each number generated is a Python \"float,\" that is, a decimal fraction such as 0.24972283792638705.\n",
    "\n",
    "You think about this and realize that, if the randomly generated numbers are truly random, the number of values between 0 and .1 should be about the same as the number of values between .1 and .2, and that should be about the same as the number of values between .2 and .3, etc. You decide to test this out.\n",
    "\n",
    "To do this, write a function named _distribution_ that takes one integer argument. It doesn't matter what you name the argument to your function, but for discussion, let's call it _x_. Your function should use _x_ as a loop counter, and what it should do _x_ times is call Python's _random_ function.  As your function loops, it must count how many random values fall into each of these 10 ranges: [0, .1), [.1, .2), [.2, .3), [.3, .4), ... [.9, 1.0). In every range, the low end is inclusive and the high end is exclusive.\n",
    "\n",
    "When your loop is finished, your function should return a list of 10 integers, one list element for each of the 10 ranges listed above. Each list element denotes how many of the random values fell into that range.\n",
    "\n",
    "Write your code in the cell below. The statement to import the _random_ function is provided for you. To call the _random_ function, do this:\n",
    "```\n",
    "something = random()\n",
    "```\n",
    "Note that _random_ takes no arguments.\n",
    "\n",
    "Your should test your _distribution_ function by calling it with different arguments. The higher the argument, the more evenly the resulting numbers should be distributed. You don't need to prove that you did this testing; there's nothing to write down or turn in. Just test your code to be sure it's correct."
   ]
  },
  {
   "cell_type": "code",
   "execution_count": null,
   "id": "99a66126",
   "metadata": {},
   "outputs": [],
   "source": [
    "from random import random\n",
    "\n",
    "# Your Problem 3 code goes here..."
   ]
  }
 ],
 "metadata": {
  "kernelspec": {
   "display_name": "Python 3 (ipykernel)",
   "language": "python",
   "name": "python3"
  },
  "language_info": {
   "codemirror_mode": {
    "name": "ipython",
    "version": 3
   },
   "file_extension": ".py",
   "mimetype": "text/x-python",
   "name": "python",
   "nbconvert_exporter": "python",
   "pygments_lexer": "ipython3",
   "version": "3.9.12"
  }
 },
 "nbformat": 4,
 "nbformat_minor": 5
}
