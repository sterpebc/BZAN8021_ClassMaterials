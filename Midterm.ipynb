{
 "cells": [
  {
   "cell_type": "markdown",
   "id": "09d739ee-9aa0-4e6f-b6ab-fb1077b4b798",
   "metadata": {},
   "source": [
    "# BZAN8022 -- Summer 2024 -- Midterm"
   ]
  },
  {
   "cell_type": "markdown",
   "id": "bef78df9",
   "metadata": {},
   "source": [
    "## Problem 1 (10 points)\n",
    "\n",
    "Write a function named _days_ that takes two arguments, a month number (between 1 and 12) and a Boolean denoting whether the year is a leap year. Your function should return the number of days in the month.\n",
    "\n",
    "**Information for Your Reference**\n",
    "\n",
    "* January is month 1, February is month 2, …, December is month 12.\n",
    "* The number of days in each month: January 31, February 28 (except 29 in a leap year), March 31, April 30, May 31, June 30, July 31, August 31, September 30, October 31, November 30, December 31.\n",
    "* In a leap year, February has 29 days; no other month is affected.\n",
    "* You may assume that the first argument is an integer between 1 and 12\n",
    "\n",
    "**Test Cases**\n",
    "```\n",
    "days(2, False) --> 28\n",
    "days(2, True)  --> 29\n",
    "days(3, False) --> 31\n",
    "days(3, True)  --> 31\n",
    "days(9, True)  --> 30\n",
    "days(9, False) --> 30\n",
    "```"
   ]
  },
  {
   "cell_type": "code",
   "execution_count": null,
   "id": "f2621657",
   "metadata": {},
   "outputs": [],
   "source": [
    "# Your Problem 1 code goes here...\n"
   ]
  },
  {
   "cell_type": "markdown",
   "id": "581acea5-6452-4e99-a1ee-058c23a873cd",
   "metadata": {},
   "source": [
    "## Problem 2 (20 points)\n",
    "\n",
    "Imagine you put D dollars in a bank account. Periodically, the bank calculates some percentage of your balance as interest and adds that amount to your account. (This is compound interest.) For example, suppose you put $100 in the bank, and the bank pays 1% interest each period:\n",
    "```\n",
    "    When                    Amount in your account\n",
    "    -----------------------------------------------\n",
    "    Initially               100.00\n",
    "    After 1 period          Interest = 1% of 100.00 = 1.00, which is added, so\n",
    "                            your account then has 101.00\n",
    "    After 2 periods         Interest = 1% of 101.00 = 1.01, which is added, so\n",
    "                            your account then has 102.01.\n",
    "```\n",
    "The formula for how much money you will have after t periods of time is...\n",
    "\n",
    "$D(1 + r)^t$\n",
    "\n",
    "…where…\n",
    "* D is your original deposit\n",
    "* r is the interest rate (as a fraction, so for 2% interest, use r = 0.02)\n",
    "\n",
    "Write a function named _periods_ (spell it correctly; it ends with ’s’) that takes 3 arguments, all floats: an initial deposit amount (D from the discussion above), and an interest rate (r from the discussion above), and a target amount. Your function should calculate how many periods it will take for the account balance to meet or exceed the target. It should then return this value (it should be an integer).\n",
    "\n",
    "**You must do this by looping; do not just solve the equation for t.**\n",
    "\n",
    "You should test your code to check that it's correct. Here are some test cases:\n",
    "```\n",
    "periods(100, .01, 105)   --> returns 5\n",
    "periods(500, .03, 1000)  --> returns 24\n",
    "```"
   ]
  },
  {
   "cell_type": "code",
   "execution_count": 1,
   "id": "b82db82d-678b-4466-aad5-916b987f09aa",
   "metadata": {},
   "outputs": [],
   "source": [
    "# Your Problem 2 code goes here...\n"
   ]
  },
  {
   "cell_type": "markdown",
   "id": "e283d83a",
   "metadata": {},
   "source": [
    "## Problem 3 (30 points)\n",
    "\n",
    "A marketing metric used by many organizations is the Net Promoter Score. A company collects responses to a question such as, “On a scale from 0 to 10, how likely are you to recommend us to a friend or family member?” Anyone who answers 9 or 10 is considered a _promoter_. Anyone who answers in the range 0 to 6 (inclusive) is a _detractor_. The Net Promoter Score is then:\n",
    "\n",
    "`% of promoters - % of detractors`\n",
    "\n",
    "The `% of promoters` is the percentage of all responses that are 9 or 10. Similarly, the `% of detractors` is the percentage of all responses that are in the 0 - 6 range (inclusive). Write a function named _nps_ that takes one argument, a list of integers that represent several responses to the question above. Based on the description above, your function should calculate the Net Promoter Score and return it as a float between -1 and 1. (In other words, don’t multiply the score by 100; if it comes out to .23, return .23, not 23.) Do not worry about rounding.\n",
    "\n",
    "You may assume that the argument list contains at least one value, and that all values are integers between 0 and 10.\n",
    "\n",
    "**Test Cases**\n",
    "```\n",
    "nps([3, 5, 3, 2, 7, 3, 6, 0, 5, 5, 2, 3, 9, 0, 0, 6, 6, 10, 0, 1]) --> -.75\n",
    "nps([9])     --> 1.0\n",
    "nps([8, 9])  --> 0.5\n",
    "nps([6])     --> -1.0\n",
    "```"
   ]
  },
  {
   "cell_type": "code",
   "execution_count": null,
   "id": "8cb26280",
   "metadata": {},
   "outputs": [],
   "source": [
    "# Your Problem 3 code goes here...\n"
   ]
  },
  {
   "cell_type": "markdown",
   "id": "19efa59e",
   "metadata": {},
   "source": [
    "## Problem 4 (40 points)\n",
    "\n",
    "Suppose you are a data analyst for an agriculture company that is testing how well a new kind of seed grows at high temperatures. Given a list of numbers in which each element is the high temperature on one day of a month, you want to determine two things: what is the highest temperature in the month, and on which day(s) did it occur?\n",
    "\n",
    "For example, if you have this data (temperatures in Celsius)…\n",
    "\n",
    "`[23, 24, 22, 25, 26, 25, 26, 25, 24, 23, 24, 25, 24, 22, 21, 20, 22, 23, 24, 24, 25, 26, 25, 24, 25, 25, 26, 25, 23, 22]`\n",
    "\n",
    "…you would conclude that the highest temperature was `26`, and it occurred on these days: `5`, `7`, `22`, `27`. Note that the first occurrence of `26` is at index `4`, but since each element represents a day in a month, that would be the 5th day of the month. Similarly, the second occurrence of 26 is at index `6`, but that is the 7th day of the month.\n",
    "\n",
    "Write a function named _temps_ that takes one argument which you may assume is a list of floats. Your function should return a list containing two elements. The first element should be the highest temperature in the argument list, and the second element should be a list of days on which that temperature occurred. (The highest temperature might repeat on multiple days.) Remember that day numbers start at 1, not 0. You may assume that argument list contains at least one element. Don’t worry about the length of the argument; you do not need to check that it corresponds to a valid number of days in a month.\n",
    "\n",
    "**Test Cases**\n",
    "```\n",
    "temps([29.9, 28.5, 29.7, 26.5, 21.5, 21.5, 29.1, 29.9, 25.4, 27.1, 25.7, 21.5, 29.5, 26.1, 23.8, 29.9, 25.8, 26.7, 23.1, 24.3, 24.5, 26.8, 26.0, 22.0, 22.4, 24.6, 25.9, 29.1, 22.2, 21.6, 25.4, 27.9])  --> [29.9, [1, 8, 16]]\n",
    "\n",
    "temps([23.2])                    --> [23.2, [1]]\n",
    "\n",
    "temps([29.1, 29.2, 29.1, 29.2])  --> [29.2, [2, 4]]\n",
    "```"
   ]
  },
  {
   "cell_type": "code",
   "execution_count": null,
   "id": "5a25f22a",
   "metadata": {},
   "outputs": [],
   "source": [
    "# Your Problem 4 code goes here...\n"
   ]
  }
 ],
 "metadata": {
  "kernelspec": {
   "display_name": "Python 3 (ipykernel)",
   "language": "python",
   "name": "python3"
  },
  "language_info": {
   "codemirror_mode": {
    "name": "ipython",
    "version": 3
   },
   "file_extension": ".py",
   "mimetype": "text/x-python",
   "name": "python",
   "nbconvert_exporter": "python",
   "pygments_lexer": "ipython3",
   "version": "3.9.12"
  }
 },
 "nbformat": 4,
 "nbformat_minor": 5
}
