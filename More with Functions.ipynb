{
 "cells": [
  {
   "cell_type": "markdown",
   "id": "4598b01d-0f80-40eb-952e-75051627c6bc",
   "metadata": {},
   "source": [
    "# More Practice with Functions"
   ]
  },
  {
   "cell_type": "markdown",
   "id": "157ba1e9-d36c-4cc1-860d-86cd113d13e8",
   "metadata": {},
   "source": [
    "## Write a function named _area_ that takes two numeric arguments. Your function should assume that these are the base and height of a rectangle, and it should return the area of the rectangle. Put the _base_ argument first."
   ]
  },
  {
   "cell_type": "code",
   "execution_count": null,
   "id": "6fa269b6-1e55-415b-9671-449eeede74a1",
   "metadata": {},
   "outputs": [],
   "source": []
  },
  {
   "cell_type": "markdown",
   "id": "ea1a5a81-4517-4c79-afd1-bb30a968fca6",
   "metadata": {},
   "source": [
    "## Enhance your _area_ function to take a third argument that appears ahead of the _base_ argument. Assume this argument is a string that denotes what kind of shape we're computing the area of. Your function should use the _base_ and _height_ arguments to return the correct area based on the first argument.\n",
    "\n",
    "**Notes**\n",
    "* The legal values for the first argument are 'rectangle' and 'triangle'. If you receive any other value, return -1.\n",
    "* The area of a rectangle is `base * height`\n",
    "* The area of a triangle is `0.5 * base * height`\n",
    "\n",
    "**Examples**\n",
    "```\n",
    "area('triangle', 10, 8)   --> should return 40\n",
    "area('rectangle', 10, 8)  --> should return 80\n",
    "```"
   ]
  },
  {
   "cell_type": "code",
   "execution_count": null,
   "id": "79757100-2be4-48a7-8199-914c82e4d202",
   "metadata": {},
   "outputs": [],
   "source": []
  },
  {
   "cell_type": "markdown",
   "id": "2d58feb5",
   "metadata": {},
   "source": [
    "## Modifying a Global Variable\n",
    "\n",
    "What happens when a function wants to modify a variable in the global scope?"
   ]
  },
  {
   "cell_type": "code",
   "execution_count": null,
   "id": "0120c795",
   "metadata": {},
   "outputs": [],
   "source": [
    "balance = 0\n",
    "\n",
    "def deposit(amount):\n",
    "    balance = balance + amount"
   ]
  },
  {
   "cell_type": "code",
   "execution_count": null,
   "id": "e224c145",
   "metadata": {},
   "outputs": [],
   "source": [
    "# Let's make a deposit\n",
    "deposit(50)\n",
    "print(f'New balance is {balance}')"
   ]
  },
  {
   "cell_type": "markdown",
   "id": "0a6a37aa",
   "metadata": {},
   "source": [
    "### The fix is to declare the global variable as `global`"
   ]
  },
  {
   "cell_type": "code",
   "execution_count": null,
   "id": "a752fdbd",
   "metadata": {},
   "outputs": [],
   "source": [
    "def deposit(amount):\n",
    "    global balance\n",
    "    balance = balance + amount"
   ]
  },
  {
   "cell_type": "code",
   "execution_count": null,
   "id": "33c27f43",
   "metadata": {},
   "outputs": [],
   "source": [
    "# Let's try the deposit again\n",
    "deposit(50)\n",
    "print(f'New balance is {balance}')"
   ]
  },
  {
   "cell_type": "markdown",
   "id": "ce817645",
   "metadata": {},
   "source": [
    "## Functions are People, Too!\n",
    "\n",
    "* A variable is a symbol (a name) associated with a value, e.g., `x = 3`\n",
    "* Functions are the same -- we just create them differently"
   ]
  },
  {
   "cell_type": "code",
   "execution_count": null,
   "id": "b09d75db",
   "metadata": {},
   "outputs": [],
   "source": [
    "def foo(n):\n",
    "    return n**2"
   ]
  },
  {
   "cell_type": "code",
   "execution_count": null,
   "id": "edf307ba",
   "metadata": {},
   "outputs": [],
   "source": [
    "# Let's ask Python for the variables it knows about in the global scope\n",
    "globals()"
   ]
  },
  {
   "cell_type": "markdown",
   "id": "75099f3e",
   "metadata": {},
   "source": [
    "### So, if `foo` is a name associated with a function, can we do this?"
   ]
  },
  {
   "cell_type": "code",
   "execution_count": null,
   "id": "eb446bc5",
   "metadata": {},
   "outputs": [],
   "source": [
    "y = foo\n",
    "print(y)"
   ]
  },
  {
   "cell_type": "code",
   "execution_count": null,
   "id": "ad6b6155",
   "metadata": {},
   "outputs": [],
   "source": [
    "result = y(5)\n",
    "print(result)"
   ]
  },
  {
   "cell_type": "markdown",
   "id": "beb8c632",
   "metadata": {},
   "source": [
    "### We can assign functions as if they were variables (because they are). Can we pass one as an argument?"
   ]
  },
  {
   "cell_type": "code",
   "execution_count": null,
   "id": "2023f51d",
   "metadata": {},
   "outputs": [],
   "source": [
    "def cool(fn, arg):\n",
    "    x = fn(arg)\n",
    "    return x"
   ]
  },
  {
   "cell_type": "code",
   "execution_count": null,
   "id": "9069007e",
   "metadata": {},
   "outputs": [],
   "source": [
    "result = cool(y, 6)\n",
    "print(result)"
   ]
  },
  {
   "cell_type": "markdown",
   "id": "b0de2a2f",
   "metadata": {},
   "source": [
    "## Try this one on paper (no computer)\n",
    "```\n",
    "def b(b):\n",
    "    return b(3)\n",
    "\n",
    "def a(b):\n",
    "    return b*b\n",
    "\n",
    "answer = a(b(a))\n",
    "print(answer)\n",
    "```"
   ]
  },
  {
   "cell_type": "code",
   "execution_count": null,
   "id": "522f8539",
   "metadata": {},
   "outputs": [],
   "source": []
  },
  {
   "cell_type": "markdown",
   "id": "e95dd0b2",
   "metadata": {},
   "source": [
    "## Try this one on paper (no computer)\n",
    "\n",
    "Consider this code:\n",
    "```\n",
    "z = 4\n",
    "\n",
    "def b(b):\n",
    "    return b*b\n",
    "\n",
    "def a(x, y):\n",
    "    return x(y + z)\n",
    "\n",
    "print('The answer is', a(b, -3))\n",
    "```\n",
    "\n",
    "Which statements below are true:\n",
    "1. Function `b` will never return; it will just keep calling itself\n",
    "2. In the `print` statement, there needs to be a call to `str()` to convert the result of `a(b, -3)` into a string\n",
    "3. Function `a` will generate an error because it calls function `x` and no function `x` has been defined\n",
    "4. When function `a` is called on the last line, the first argument must be `b()`, not `b`\n",
    "5. In function `a`, `z` should be declared global\n",
    "6. This code creates 3 symbols in the global scope"
   ]
  },
  {
   "cell_type": "code",
   "execution_count": null,
   "id": "2d7be7a2",
   "metadata": {},
   "outputs": [],
   "source": []
  },
  {
   "cell_type": "markdown",
   "id": "566a6905",
   "metadata": {},
   "source": [
    "## Question: Can a function call itself?"
   ]
  },
  {
   "cell_type": "markdown",
   "id": "1f03eb1c",
   "metadata": {},
   "source": [
    "## Answer: Yes, but this is rare. Avoid it unless you need it."
   ]
  },
  {
   "cell_type": "code",
   "execution_count": null,
   "id": "8572aeb2",
   "metadata": {},
   "outputs": [],
   "source": [
    "def x(n):\n",
    "    if n == 1 or n == 2:\n",
    "        return 1\n",
    "    else:\n",
    "        return x(n-1) + x(n-2)"
   ]
  },
  {
   "cell_type": "code",
   "execution_count": null,
   "id": "fc8fd5e8",
   "metadata": {},
   "outputs": [],
   "source": []
  },
  {
   "cell_type": "markdown",
   "id": "d1c1467e",
   "metadata": {},
   "source": [
    "## More Function Practice: Leap Years\n",
    "\n",
    "Write a function named _leap_ that takes one argument and returns True if the argument represents a leap year, False otherwise. A year is a leap year if it is divisible by 4 but *not* divisible by 100."
   ]
  },
  {
   "cell_type": "code",
   "execution_count": null,
   "id": "3bdf03c6",
   "metadata": {},
   "outputs": [],
   "source": [
    "# Your leap code here..."
   ]
  }
 ],
 "metadata": {
  "kernelspec": {
   "display_name": "Python 3 (ipykernel)",
   "language": "python",
   "name": "python3"
  },
  "language_info": {
   "codemirror_mode": {
    "name": "ipython",
    "version": 3
   },
   "file_extension": ".py",
   "mimetype": "text/x-python",
   "name": "python",
   "nbconvert_exporter": "python",
   "pygments_lexer": "ipython3",
   "version": "3.11.7"
  }
 },
 "nbformat": 4,
 "nbformat_minor": 5
}
