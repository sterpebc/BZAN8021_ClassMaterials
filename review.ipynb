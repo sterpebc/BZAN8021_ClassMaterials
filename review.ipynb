{
 "cells": [
  {
   "cell_type": "markdown",
   "metadata": {},
   "source": [
    "# Review Problems - BZAN8022 - Summer 2024"
   ]
  },
  {
   "cell_type": "markdown",
   "metadata": {},
   "source": [
    "### Problem 1\n",
    "\n",
    "Technical people sometimes substitute letters with numbers as a quick way to create a password. For example, if they wanted the password to be `believe`, they would substitute `3` for every `e` and `1` for every `i` to end up with `b3l13v3`.\n",
    "\n",
    "Write a function named _techie_ that accepts one argument which you may assume is a lowercase string. Return a new string in which you have made the following substitutions:\n",
    "* substitute `'1'` for every `'i'`\n",
    "* substitute `'3'` for every `'e'`\n",
    "* substitute `'4'` for every `'a'`\n",
    "* substitute `'0'` for every `'o'`\n",
    "* substitute `'5'` for every `'s'`\n",
    "\n",
    "Do not use the string method _replace_. :-)"
   ]
  },
  {
   "cell_type": "code",
   "execution_count": null,
   "metadata": {
    "vscode": {
     "languageId": "plaintext"
    }
   },
   "outputs": [],
   "source": [
    "# Problem 1 code here\n"
   ]
  },
  {
   "cell_type": "markdown",
   "metadata": {},
   "source": [
    "### Problem 2\n",
    "\n",
    "The sum of the series 1/1 + 1/2 + 1/3 + ... never converges. If you add enough terms, you can reach any value. For example, it takes 4 terms of the series to reach 2 (1 + 1/2 + 1/3 + 1/4 = 2.08333333), 11 terms for the series to reach 3, and 22,360,003 terms to reach 17.5. Write code to prompt the user to enter a number. Then determine how many terms of the series you would have to add for the sum to be greater than the user's number. Use a `while` loop."
   ]
  },
  {
   "cell_type": "code",
   "execution_count": null,
   "metadata": {
    "vscode": {
     "languageId": "plaintext"
    }
   },
   "outputs": [],
   "source": [
    "# Problem 2 code here\n"
   ]
  },
  {
   "cell_type": "markdown",
   "metadata": {},
   "source": [
    "### Problem 3\n",
    "\n",
    "Fill in the two blanks below (`[.......]`) so that the expression evaluates to True."
   ]
  },
  {
   "cell_type": "code",
   "execution_count": null,
   "metadata": {},
   "outputs": [],
   "source": [
    "v = [[[['x', 'y', 'z'], [7, 8, 1, 4], [False, True]], 5, [int(72/18)]], ['a', 6, 'b', 2]]\n",
    "\n",
    "v[0][0][.......][.......] == v[0][2]"
   ]
  },
  {
   "cell_type": "markdown",
   "metadata": {},
   "source": [
    "### Problem 4\n",
    "\n",
    "A number, `n`, is a Curzon number if $1 + 2^{n}$ is exactly divisible by $1 + 2n$. Write a function named _curzon_ that takes one argument (which you may assume is a non-negative integer). Your function should return True if its argument is a Curzon number, False if not.\n",
    "\n",
    "Here are some numbers to test with:\n",
    "* Curzon numbers: 1, 2, 5, 6, 9\n",
    "* **NOT** Curzon numbers: 3, 4, 7, 8, 10"
   ]
  },
  {
   "cell_type": "code",
   "execution_count": null,
   "metadata": {},
   "outputs": [],
   "source": [
    "# Problem 4 code here\n"
   ]
  },
  {
   "cell_type": "markdown",
   "metadata": {},
   "source": [
    "### Problem 5\n",
    "\n",
    "YouTube and Netflix and other content providers display a Like and a Dislike button that allow you to express your opinion about particular content. It's set up in such a way that you cannot like and dislike a video at the same time.\n",
    "\n",
    "There are two other interesting rules to be noted about the interface:\n",
    "\n",
    "* Pressing a button which is already active will undo your press.  So pressing Like and then Like again will revert to No Opinion.\n",
    "* If you press the Like button after pressing the Dislike button, the Like button overwrites the previous Dislike state, leaving your preference as Like. The opposite is true, too: pressing Dislike after Like overwrites the Like, leaving your preference as Dislike.\n",
    "\n",
    "Write a function named _preference_ that accepts one argument, a list of strings. The argument will be a list of buttons in the order in which they were pressed; each list element will be either the string 'Like' or 'Dislike'. Your function should return the final state of the user's opinion of the content as one of these strings: 'Like', 'Dislike', or 'No Opinion'.\n",
    "\n",
    "If the argument list is empty, return 'No Opinion'.\n",
    "\n",
    "### Examples\n",
    "```\n",
    "Argument is ['Dislike'] ➞ return 'Dislike'\n",
    "Argument is ['Like', 'Like'] ➞ return 'No Opinion'\n",
    "Argument is ['Dislike', 'Like'] ➞ return 'Like'\n",
    "Argument is ['Like', 'Dislike', 'Dislike'] ➞ return 'No Opinion'\n",
    "Argument is []  ➞ return 'No Opinion'\n",
    "```\n",
    "(Adapted from https://edabit.com/challenge/egMp3GWyN8TPptbZA)"
   ]
  },
  {
   "cell_type": "code",
   "execution_count": null,
   "metadata": {},
   "outputs": [],
   "source": [
    "# Problem 5 code here\n"
   ]
  },
  {
   "cell_type": "markdown",
   "metadata": {},
   "source": [
    "### Problem 6\n",
    "\n",
    "Using `votedata.txt` that we have used before, write a function named _cities_ that reads the file and returns a list of the cities named in the file -- no duplicates."
   ]
  },
  {
   "cell_type": "code",
   "execution_count": null,
   "metadata": {},
   "outputs": [],
   "source": [
    "# Problem 6 code here\n"
   ]
  },
  {
   "cell_type": "markdown",
   "metadata": {},
   "source": [
    "### Problem 7\n",
    "\n",
    "Using `votedata.txt`, write a function named _city_ that accepts one parameter which you may assume is a string. Your function should return `True` if the argument is a city contained in the file, `False` otherwise. Do this in a way that does not read every line of the file unless you have to."
   ]
  },
  {
   "cell_type": "code",
   "execution_count": null,
   "metadata": {},
   "outputs": [],
   "source": [
    "# Problem 7 code here\n"
   ]
  }
 ],
 "metadata": {
  "language_info": {
   "name": "python"
  }
 },
 "nbformat": 4,
 "nbformat_minor": 2
}
