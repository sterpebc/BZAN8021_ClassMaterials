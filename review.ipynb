{
 "cells": [
  {
   "cell_type": "markdown",
   "metadata": {},
   "source": [
    "# Review Problems - BZAN8022 - Summer 2024"
   ]
  },
  {
   "cell_type": "markdown",
   "metadata": {},
   "source": [
    "### Problem 1\n",
    "\n",
    "Technical people sometimes substitute letters with numbers as a quick way to create a password. For example, if they wanted the password to be `believe`, they would substitute `3` for every `e` and `1` for every `i` to end up with `b3l13v3`.\n",
    "\n",
    "Write a function named _techie_ that accepts one argument which you may assume is a lowercase string. Return a new string in which you have made the following substitutions:\n",
    "* substitute `'1'` for every `'i'`\n",
    "* substitute `'3'` for every `'e'`\n",
    "* substitute `'4'` for every `'a'`\n",
    "* substitute `'0'` for every `'o'`\n",
    "* substitute `'5'` for every `'s'`\n",
    "\n",
    "Do not use the string method _replace_. :-)"
   ]
  },
  {
   "cell_type": "code",
   "execution_count": null,
   "metadata": {},
   "outputs": [],
   "source": [
    "# Problem 1 code here\n"
   ]
  },
  {
   "cell_type": "markdown",
   "metadata": {},
   "source": [
    "### Problem 2\n",
    "\n",
    "The sum of the series 1/1 + 1/2 + 1/3 + ... never converges. If you add enough terms, you can reach any value. For example, it takes 4 terms of the series to reach 2 (1 + 1/2 + 1/3 + 1/4 = 2.08333333), 11 terms for the series to reach 3, and 22,360,003 terms to reach 17.5. Write code to prompt the user to enter a number. Then determine how many terms of the series you would have to add for the sum to be greater than the user's number. Use a `while` loop."
   ]
  },
  {
   "cell_type": "code",
   "execution_count": null,
   "metadata": {},
   "outputs": [],
   "source": [
    "# Problem 2 code here\n"
   ]
  },
  {
   "cell_type": "markdown",
   "metadata": {},
   "source": [
    "### Problem 3\n",
    "\n",
    "Fill in the two blanks below (`[.......]`) so that the expression evaluates to True."
   ]
  },
  {
   "cell_type": "code",
   "execution_count": null,
   "metadata": {},
   "outputs": [],
   "source": [
    "v = [[[['x', 'y', 'z'], [7, 8, 1, 4], [False, True]], 5, [int(72/18)]], ['a', 6, 'b', 2]]"
   ]
  },
  {
   "cell_type": "code",
   "execution_count": null,
   "metadata": {},
   "outputs": [],
   "source": [
    "\n",
    "v[0][0][.......][.......] == v[0][2]"
   ]
  },
  {
   "cell_type": "markdown",
   "metadata": {},
   "source": [
    "### Problem 4\n",
    "\n",
    "A number, `n`, is a Curzon number if $1 + 2^{n}$ is exactly divisible by $1 + 2n$. Write a function named _curzon_ that takes one argument (which you may assume is a non-negative integer). Your function should return True if its argument is a Curzon number, False if not.\n",
    "\n",
    "Here are some numbers to test with:\n",
    "* Curzon numbers: 1, 2, 5, 6, 9\n",
    "* **NOT** Curzon numbers: 3, 4, 7, 8, 10"
   ]
  },
  {
   "cell_type": "code",
   "execution_count": null,
   "metadata": {},
   "outputs": [],
   "source": [
    "# Problem 4 code here\n"
   ]
  },
  {
   "cell_type": "markdown",
   "metadata": {},
   "source": [
    "### Problem 5\n",
    "\n",
    "YouTube and Netflix and other content providers display a Like and a Dislike button that allow you to express your opinion about particular content. It's set up in such a way that you cannot like and dislike a video at the same time.\n",
    "\n",
    "There are two other interesting rules to be noted about the interface:\n",
    "\n",
    "* Pressing a button which is already active will undo your press.  So pressing Like and then Like again will revert to No Opinion.\n",
    "* If you press the Like button after pressing the Dislike button, the Like button overwrites the previous Dislike state, leaving your preference as Like. The opposite is true, too: pressing Dislike after Like overwrites the Like, leaving your preference as Dislike.\n",
    "\n",
    "Write a function named _preference_ that accepts one argument, a list of strings. The argument will be a list of buttons in the order in which they were pressed; each list element will be either the string 'Like' or 'Dislike'. Your function should return the final state of the user's opinion of the content as one of these strings: 'Like', 'Dislike', or 'No Opinion'.\n",
    "\n",
    "If the argument list is empty, return 'No Opinion'.\n",
    "\n",
    "### Examples\n",
    "```\n",
    "Argument is ['Dislike'] ➞ return 'Dislike'\n",
    "Argument is ['Like', 'Like'] ➞ return 'No Opinion'\n",
    "Argument is ['Dislike', 'Like'] ➞ return 'Like'\n",
    "Argument is ['Like', 'Dislike', 'Dislike'] ➞ return 'No Opinion'\n",
    "Argument is []  ➞ return 'No Opinion'\n",
    "```\n",
    "(Adapted from https://edabit.com/challenge/egMp3GWyN8TPptbZA)"
   ]
  },
  {
   "cell_type": "code",
   "execution_count": null,
   "metadata": {},
   "outputs": [],
   "source": [
    "# Problem 5 code here\n"
   ]
  },
  {
   "cell_type": "markdown",
   "metadata": {},
   "source": [
    "### Problem 6\n",
    "\n",
    "Using `votedata.txt` that we have used before, write a function named _cities_ that reads the file and returns a list of the cities named in the file -- no duplicates."
   ]
  },
  {
   "cell_type": "code",
   "execution_count": null,
   "metadata": {},
   "outputs": [],
   "source": [
    "# Problem 6 code here\n"
   ]
  },
  {
   "cell_type": "markdown",
   "metadata": {},
   "source": [
    "### Problem 7\n",
    "\n",
    "Using `votedata.txt`, write a function named _city_ that accepts one parameter which you may assume is a string. Your function should return `True` if the argument is a city contained in the file, `False` otherwise. Do this in a way that does not read every line of the file unless you have to."
   ]
  },
  {
   "cell_type": "code",
   "execution_count": null,
   "metadata": {},
   "outputs": [],
   "source": [
    "# Problem 7 code here\n"
   ]
  },
  {
   "cell_type": "markdown",
   "metadata": {},
   "source": [
    "## Solutions"
   ]
  },
  {
   "cell_type": "markdown",
   "metadata": {},
   "source": [
    "### Problem 1"
   ]
  },
  {
   "cell_type": "code",
   "execution_count": null,
   "metadata": {},
   "outputs": [],
   "source": [
    "def techie(s):\n",
    "    result = ''\n",
    "\n",
    "    for c in s:\n",
    "        if c == 'i':\n",
    "            c = '1'\n",
    "        elif c == 'e':\n",
    "            c = '3'\n",
    "        elif c == 'a':\n",
    "            c = '4'\n",
    "        elif c == 'o':\n",
    "            c = '0'\n",
    "        elif c == 's':\n",
    "            c = '5'\n",
    "\n",
    "        result = result + c\n",
    "\n",
    "    return result"
   ]
  },
  {
   "cell_type": "markdown",
   "metadata": {},
   "source": [
    "### Problem 2"
   ]
  },
  {
   "cell_type": "code",
   "execution_count": null,
   "metadata": {},
   "outputs": [],
   "source": [
    "# Use float on line below – no reason target must be an integer\n",
    "target = float(input('Enter a target value: '))\n",
    "\n",
    "series_total = 1   # Series starts at 1/1\n",
    "count = 1          # By starting at 1, we already have 1 term of the series\n",
    "\n",
    "while series_total < target:\n",
    "    count = count + 1\n",
    "\n",
    "    # With this series, the counter can also be the denominator when we divide!\n",
    "    series_total = series_total + (1 / count)\n",
    "\n",
    "print(f'The total reached {series_total} after {count} terms.')\n"
   ]
  },
  {
   "cell_type": "markdown",
   "metadata": {},
   "source": [
    "### Problem 3\n",
    "\n",
    "First blank: `1`\n",
    "\n",
    "Second blank: `3:`"
   ]
  },
  {
   "cell_type": "markdown",
   "metadata": {},
   "source": [
    "### Problem 4"
   ]
  },
  {
   "cell_type": "code",
   "execution_count": null,
   "metadata": {},
   "outputs": [],
   "source": [
    "def curzon(n):\n",
    "    # You could do this in fewer lines, but this is meant to be\n",
    "    # clear and easy to follow.\n",
    "    numerator = 1 + 2**n\n",
    "    denominator = 1 + 2*n\n",
    "    remainder = int(numerator % denominator)\n",
    "    return remainder == 0"
   ]
  },
  {
   "cell_type": "markdown",
   "metadata": {},
   "source": [
    "### Problem 5"
   ]
  },
  {
   "cell_type": "code",
   "execution_count": null,
   "metadata": {},
   "outputs": [],
   "source": [
    "def preference(buttons):\n",
    "    if len(buttons) == 0:\n",
    "        return 'No Opinion'\n",
    "\n",
    "    pref = buttons[0]\n",
    "\n",
    "    for button in buttons[1:]:\n",
    "        if button != pref:\n",
    "            pref = button\n",
    "        else:\n",
    "            pref = 'No Opinion'\n",
    "\n",
    "    return pref"
   ]
  },
  {
   "cell_type": "markdown",
   "metadata": {},
   "source": [
    "### Problem 6"
   ]
  },
  {
   "cell_type": "code",
   "execution_count": null,
   "metadata": {},
   "outputs": [],
   "source": [
    "def cities():\n",
    "    result = {}\n",
    "    file = open('votedata.txt', 'r')\n",
    "    for line in file:\n",
    "        line = line.rstrip('\\n')\n",
    "        city = line.split(';')[1]\n",
    "        result[city] = 0\n",
    "\n",
    "    file.close()\n",
    "    return list(result.keys())\n"
   ]
  },
  {
   "cell_type": "markdown",
   "metadata": {},
   "source": [
    "### Problem 7"
   ]
  },
  {
   "cell_type": "code",
   "execution_count": 18,
   "metadata": {},
   "outputs": [
    {
     "name": "stdout",
     "output_type": "stream",
     "text": [
      "False\n"
     ]
    }
   ],
   "source": [
    "def city(target_city):\n",
    "    file = open('votedata.txt', 'r')\n",
    "    for line in file:\n",
    "        line = line.rstrip('\\n')\n",
    "        city = line.split(';')[1]\n",
    "        if target_city.lower() == city.lower():\n",
    "            file.close()\n",
    "            return True\n",
    "    \n",
    "    file.close()\n",
    "    return False\n"
   ]
  },
  {
   "cell_type": "markdown",
   "metadata": {},
   "source": [
    "Alternative code for Problem 7 that doesn't require us to call `file.close()`. The file will be closed once the context manager (the `with blah blah` block) is exited."
   ]
  },
  {
   "cell_type": "code",
   "execution_count": 19,
   "metadata": {},
   "outputs": [],
   "source": [
    "def city(target_city):\n",
    "    with open('votedata.txt', 'r') as file:\n",
    "        for line in file:\n",
    "            line = line.rstrip('\\n')\n",
    "            city = line.split(';')[1]\n",
    "            if target_city.lower() == city.lower():\n",
    "                return True\n",
    "        \n",
    "        return False\n"
   ]
  }
 ],
 "metadata": {
  "kernelspec": {
   "display_name": "Python 3",
   "language": "python",
   "name": "python3"
  },
  "language_info": {
   "codemirror_mode": {
    "name": "ipython",
    "version": 3
   },
   "file_extension": ".py",
   "mimetype": "text/x-python",
   "name": "python",
   "nbconvert_exporter": "python",
   "pygments_lexer": "ipython3",
   "version": "3.12.1"
  }
 },
 "nbformat": 4,
 "nbformat_minor": 2
}
