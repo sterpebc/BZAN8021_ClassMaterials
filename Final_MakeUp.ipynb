{
 "cells": [
  {
   "cell_type": "markdown",
   "metadata": {},
   "source": [
    "# BZAN8022 -- Summer I 2024 -- Sterpe -- Final\n",
    "\n",
    "**Important**\n",
    "* Write your code in the code cells provided.\n",
    "* You may create additional code cells if you need them. Please delete them. If you don't delete them, at least use a comment to make it clear which code cell contains your official answer.\n",
    "* You may only use techniques that we have covered in this course. Use of other techniques will result in loss of points."
   ]
  },
  {
   "cell_type": "markdown",
   "metadata": {},
   "source": [
    "## Problem 1 (30 points)\n",
    "\n",
    "If you want to encode a message to keep it secret, one way is to substitute every letter with another letter. For example, if you decide to substitue `a` with `k`, `b` with `p`, and `c` with `m`, then the message `abc` would be encoded as `kpm`. In this problem, you will write a function that does this.\n",
    "\n",
    "We will use a dictionary to specify how to subsitute one letter for another. For example, this dictionary describes the encoding in the example above: `{'a': 'k', 'b': 'p', 'c': 'm'}`. What if we wanted to encode the message `abcd`? The dictionary doesn't have a key for `d`, so in that case, we would just keep the `d` unchanged. The encoded message would then be `kpmd`. What about punctuation? Treat puncutation the same as you treat letters -- encode the punctuation if the dictionary contains an encoding for it, otherwise keep the character as it is.\n",
    "\n",
    "Write a function named `encode` that takes two arguments, an encoding dictionary and a string. Your function should return the encoded version of the string. Do this in a case-insensitive way, that is, treat `a` and `A` as the same letter. You may assume that in the encoding dictionary, all keys are in lowercase.\n",
    "\n",
    "### Some Values to Test With\n",
    "```\n",
    "encode({'a': 'k', 'b': 'p', 'c': 'm'}, 'aBraCadAbra') --> 'kprkmkdkprk'\n",
    "\n",
    "encode ({' ': '*', 'a': 'i', 'b': 'q', 'c': 'u', 'd': 't', 'e': 'a', 'f': 'v', 'g': 'e', 'h': 'd', 'i': 'b', 'j': 'm', 'k': 'w', 'l': 'g', 'm': 'z', 'n': 'f', 'o': 'r', 'p': 'c', 'q': 'h', 'r': 'y', 's': 'x', 't': 'k', 'u': 'j', 'v': 's', 'w': 'l', 'x': 'o', 'y': 'p', 'z': 'n'}, 'Boston College') --> 'qrxkrf*urggaea'\n",
    "```"
   ]
  },
  {
   "cell_type": "code",
   "execution_count": null,
   "metadata": {
    "vscode": {
     "languageId": "plaintext"
    }
   },
   "outputs": [],
   "source": [
    "# Problem 1 code here...\n"
   ]
  },
  {
   "cell_type": "markdown",
   "metadata": {},
   "source": [
    "## Problem 2 (30 points)\n",
    "\n",
    "Suppose your company has asked customers to give products a score. Customers can say that they Like a product, Dislike it, or are Neutral (neither like nor dislike). The company collected a lot of data and has given it to you to analyze. You get the data as a list of tuples, like this:\n",
    "```\n",
    "[\n",
    "    ('customer A', '230018J', 1),\n",
    "    ('customer B', '230018J', 0),\n",
    "    ('customer C', '141326K', -1),\n",
    "    ('customer A', '141326K', 1)\n",
    "\n",
    "    ...\n",
    "]\n",
    "```\n",
    "\n",
    "In each tuple, the first element identifies the customer, the second element identifies the product, and the last element is the score (1=Like, -1=Dislike, 0=Neutral).\n",
    "\n",
    "Write a function named `score` that takes one argument, a list of tuples similar to the one shown above. Your function should add the scores for each product and return a dictionary in this form:\n",
    "```\n",
    "{'230018J': 1, '141326K': 0, ...}\n",
    "```\n",
    "\n",
    "In the dictionary you return, each key is a product identifier, and value is the total score for that product.\n",
    "\n",
    "### A Value to Test With\n",
    "```\n",
    "score([('customer A', '230018J', 1), ('customer B', '230018J', 0), ('customer C', '141326K', -1), ('customer A', '141326K', 1)]) --> {'230018J': 1, '141326K': 0}\n",
    "```"
   ]
  },
  {
   "cell_type": "code",
   "execution_count": null,
   "metadata": {
    "vscode": {
     "languageId": "plaintext"
    }
   },
   "outputs": [],
   "source": [
    "# Problem 2 code here...\n"
   ]
  },
  {
   "cell_type": "markdown",
   "metadata": {},
   "source": [
    "## Problem 3 (40 points)\n",
    "\n",
    "Suppose you work in IT for a company that maintains a high level of security in its building. Every exterior door has a badge reader, and employees must use their badge to enter and exit a building. A safety-minded person gets a good idea: we can use the data from the badge readers to determine who is still in the building. If there is an emergency, we will know who might need help evacuating.\n",
    "\n",
    "This good idea lands on your desk, and you are asked to write a program to analyze the badge reader data. The data comes to you as a text file. Here is a small sample; see file `badges.txt` for the full data.\n",
    "\n",
    "```\n",
    "BadgeNumber,Action,Time\n",
    "12345,Enter,20230322T090245\n",
    "22347,Enter,20230322T084202\n",
    "12345,Exit,20230322T150301\n",
    "```\n",
    "\n",
    "From the sample data above, we can see that employee 12345 has entered and exited, but employee 22347 has only entered -- they are still in the building.\n",
    "\n",
    "Write a function named `badges` that takes one argument, the name of a data file. Your function should read the data from the named file and return a list of badge numbers of people who are still in the building. Assume the data file has a format similar to the format of `badges.txt`, but do not hardcode the name \"badges.txt\" -- you will receive the name of the data file as the argument to your function.\n",
    "\n",
    "For any employee you may assume that, if the employee has exited the building, their Exit line in the data comes _after_ their Enter line."
   ]
  },
  {
   "cell_type": "code",
   "execution_count": null,
   "metadata": {
    "vscode": {
     "languageId": "plaintext"
    }
   },
   "outputs": [],
   "source": [
    "# Problem 3 code here...\n"
   ]
  }
 ],
 "metadata": {
  "language_info": {
   "name": "python"
  }
 },
 "nbformat": 4,
 "nbformat_minor": 2
}
