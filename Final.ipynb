{
 "cells": [
  {
   "cell_type": "markdown",
   "metadata": {},
   "source": [
    "# BZAN8022 -- Summer I 2024 -- Sterpe -- Final\n",
    "\n",
    "**Important**\n",
    "* Write your code in the code cells provided.\n",
    "* You may create additional code cells if you need them. Please delete them. If you don't delete them, at least use a comment to make it clear which code cell contains your official answer.\n",
    "* You may only use techniques that we have covered in this course. Use of other techniques will result in loss of points."
   ]
  },
  {
   "cell_type": "markdown",
   "metadata": {},
   "source": [
    "## Problem 1 (30 points)\n",
    "\n",
    "In your Jupyter Hub files, in addition to this exam file, you should also have a file named `finaldata.txt`. Double-click that file to open it in Jupyter and have a look at its data. Notice that each line contains several values separated by commas.\n",
    "\n",
    "Write a function named `filehandler` that accepts two parameters which you may assume are both numbers. When your function is called, the first argument will be an integer, the second will be a float. You can give your parameters any names, but for discussion, let's say that the first parameter is `n` and the second parameter is `value`.\n",
    "\n",
    "Your function should do the following:\n",
    "* Open the `finaldata.txt` file\n",
    "* For every line in the file, determine if the `nth` value on the line is greater than or equal to the argument `value`. If it is, count that line. For example, if the line is `abc,5,4,6` and `n` is 3, the `nth` value on the line is `4`. If `n` is 2, the `nth` value on the line is `5`.\n",
    "* Close the file when you are finished reading from it.\n",
    "* Return the count.\n",
    "\n",
    "**Examples**\n",
    "```\n",
    "filehandler(2, 50)  should return 71\n",
    "filehandler(4, 75)  should return 41\n",
    "filehandler(6, 25)  should return 94\n",
    "filehandler(8, 75)  should return 20\n",
    "filehandler(5, 100) should return 0\n",
    "```"
   ]
  },
  {
   "cell_type": "code",
   "execution_count": null,
   "metadata": {},
   "outputs": [],
   "source": [
    "# Problem 1 code here...\n"
   ]
  },
  {
   "cell_type": "markdown",
   "metadata": {},
   "source": [
    "## Problem 2 (30 points)\n",
    "\n",
    "Suppose your company is closely watching the sales of your most popular product. Your co-worker has recorded the number of units of product sold in 2022 in this format:\n",
    "```\n",
    "[\n",
    "    [n, n, n, n, n, n, ..., n],    # January (31 values)\n",
    "    [n, n, n, n, n, n, ..., n],    # February (28 values)\n",
    "    [n, n, n, n, n, n, ..., n],    # March (31 values)\n",
    "          . . .\n",
    "    [n, n, n, n, n, n, ..., n],    # December (31 values)\n",
    "]\n",
    "```\n",
    "\n",
    "There are twelve inner lists, one for each month of the year. The list values are integers indicating how many units of product were sold on each day of that month.\n",
    "\n",
    "Write a function named `top_month` that takes one argument, a list like the one shown above. Your function should calculate which month saw the highest total number of units, and it should return the index of that month."
   ]
  },
  {
   "cell_type": "code",
   "execution_count": null,
   "metadata": {},
   "outputs": [],
   "source": [
    "# Problem 2 code here...\n"
   ]
  },
  {
   "cell_type": "markdown",
   "metadata": {},
   "source": [
    "## Problem 3 (40 points)\n",
    "\n",
    "Suppose you are given a text file containing data about stock trades (buying and selling). The format of the file is as follows:\n",
    "```\n",
    "customerID,ticker,buy/sell,quantity,sharePrice\n",
    "44532,XYZ,B,100,4.75\n",
    "29087,GGFF.X,B,250,34.56\n",
    "44532,XYZ,B,400,3.80\n",
    "44532,LLKK,B,300,21.00\n",
    "29087,GGFF.X,S,250,44.25\n",
    "44532,XYZ,S,200,4.10\n",
    "```\n",
    "\n",
    "In the `buy/sell` field, `B` means buy and `S` means sell.\n",
    "\n",
    "A sample file is available in your Jupyter folder; it is named `trades.txt`."
   ]
  },
  {
   "cell_type": "markdown",
   "metadata": {},
   "source": [
    "Write a function named `read_trades` that takes one argument, the name of a file. The file will have the same format as the data shown above. Your function should open the file, create a dictionary having the structure shown below, close the file, and return the dictionary.\n",
    "```\n",
    "{\n",
    "    44532: [\n",
    "        {'ticker': 'XYZ', 'tx': 'B', 'qty': 100, 'price': 4.75},\n",
    "        {'ticker': 'XYZ', 'tx': 'B', 'qty': 400, 'price': 3.80},\n",
    "        {'ticker': 'LLKK', 'tx': 'B', 'qty': 300, 'price': 21.00},\n",
    "        {'ticker': 'XYZ', 'tx': 'S', 'qty': 200, 'price': 4.10}\n",
    "    ],\n",
    "    29087: [\n",
    "        {'ticker': 'GGFF.X', 'tx': 'B', 'qty': 250, 'price': 34.56},\n",
    "        {'ticker': 'GGFF.X', 'tx': 'S', 'qty': 250, 'price': 44.25}\n",
    "    ]\n",
    "}\n",
    "```\n",
    "Each key is a customerID; note that they are integers. The value for the key is a list of dictionaries; each dictionary represents one trade from the data file. In these dictionaries, the keys are:\n",
    "```\n",
    "'ticker'  The stock ticker symbol. The value for this key is a string.\n",
    "'tx'      Abbreviation for \"transaction\"; either 'B' or 'S'. The value for this key is a string.\n",
    "'qty'     Abbreviation for \"quantity\"; the number of shares bought or sold. The value for this key is an integer.\n",
    "'price'   The price per share. The value for this key is a float.\n",
    "```\n",
    "You can use the file `trades.txt` to test your code. The data in the file is not real. It may have a customer selling a stock before they have bought any of it! Don't worry about that. :-)"
   ]
  },
  {
   "cell_type": "code",
   "execution_count": null,
   "metadata": {},
   "outputs": [],
   "source": [
    "# Problem 3 code here...\n"
   ]
  }
 ],
 "metadata": {
  "language_info": {
   "name": "python"
  }
 },
 "nbformat": 4,
 "nbformat_minor": 2
}
