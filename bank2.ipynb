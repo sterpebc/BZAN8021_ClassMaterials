{
 "cells": [
  {
   "cell_type": "markdown",
   "id": "6bcbb57c-3074-4dfb-b387-ec50111609f6",
   "metadata": {},
   "source": [
    "# Hands On Using Lists & Loops\n",
    "\n",
    "You have two tasks:\n",
    "1. Maintain a transaction history that keeps track of every deposit and withdrawal. The history should know whether a transaction was a deposit or withdrawal, the amount deposited or withdrawn, and the new balance that resulted after the deposit or withdrawal.\n",
    "1. Add an \"h\" command option to print the transaction history in a nicely formatted way.\n",
    "\n",
    "Your starting point is the coded solution to the last hands-on involving the bank code -- that code is below."
   ]
  },
  {
   "cell_type": "code",
   "execution_count": null,
   "id": "e2ce19fd-6993-47e1-8115-76936acf9aea",
   "metadata": {},
   "outputs": [],
   "source": [
    "# This cell sets some variables your code\n",
    "# will use. Run this cell once initially.\n",
    "\n",
    "# If you ever want to reset these variables\n",
    "# to their initial vales, run this cell again.\n",
    "\n",
    "balance = 0\n",
    "maximum_deposit = 12000\n",
    "maximum_withdrawal = 5000\n",
    "\n",
    "# These variables are used to enforce daily limits\n",
    "# on deposits and withdrawals\n",
    "daily_limit_deposits = 25000\n",
    "daily_limit_withdrawals = 10000\n",
    "deposits_today = 0\n",
    "withdrawals_today = 0\n",
    "\n",
    "bank_name = 'Cash R Us'  # Your bank name goes here"
   ]
  },
  {
   "cell_type": "code",
   "execution_count": null,
   "id": "1a091de1-7437-48f7-9e93-9fcb809fd9bd",
   "metadata": {},
   "outputs": [],
   "source": [
    "# This is the complete banking code so far.\n",
    "# It also implements the \"Additional Options.\"\n",
    "\n",
    "while True:\n",
    "    choice = input(f'''\n",
    "    W E L C O M E   T O   {bank_name}\n",
    "\n",
    "    d) Deposit funds\n",
    "    w) Withdraw funds\n",
    "    b) Balance inquiry\n",
    "    q) Quit\n",
    "    \n",
    "    Your choice? \n",
    "''').lower()\n",
    "    \n",
    "    if choice == 'q':\n",
    "        print('Goodbye.')\n",
    "        break\n",
    "    elif choice == 'd':\n",
    "        amount = float(input('Enter amount to deposit: '))\n",
    "        if amount <= 0:\n",
    "            print('Please enter a valid amount.')\n",
    "        elif amount > maximum_deposit:\n",
    "            print(f'The maximum allowed deposit is ${maximum_deposit}.')\n",
    "        elif amount + deposits_today > daily_limit_deposits:\n",
    "            print(f'You have already deposited ${deposits_today} today.')\n",
    "            print(f'We cannot allow this deposit as it would cause you to exceed the ${daily_limit_deposits} daily deposit limit.')\n",
    "        else:\n",
    "            balance = balance + amount\n",
    "            deposits_today = deposits_today + amount\n",
    "            print(f'Your new balance is ${balance}.')\n",
    "    elif choice == 'w':\n",
    "        amount = float(input('Enter amount to withdraw: '))\n",
    "        if amount <= 0:\n",
    "            print('Please enter a valid amount.')\n",
    "        elif amount > maximum_withdrawal:\n",
    "            print(f'The maximum allowed withdrawal is ${maximum_withdrawal}.')\n",
    "        elif balance - amount < 0:\n",
    "            print(f'A withdrawal of ${amount} would leave your account overdrawn by ${-(balance - amount)}.')\n",
    "        elif amount + withdrawals_today > daily_limit_withdrawals:\n",
    "            print(f'You have already withdrawn ${withdrawals_today} today.')\n",
    "            print(f'We cannot allow this withdrawal as it would cause you to exceed the ${daily_limit_withdrawalss} daily withdrawal limit.')\n",
    "        else:\n",
    "            balance = balance - amount\n",
    "            print(f'Your new balance is ${balance}.')\n",
    "    elif choice == 'b':\n",
    "        print(f'Your current balance is ${balance}.')\n",
    "    else:\n",
    "        print('Please enter one of the choices above.')"
   ]
  }
 ],
 "metadata": {
  "kernelspec": {
   "display_name": "Python 3 (ipykernel)",
   "language": "python",
   "name": "python3"
  },
  "language_info": {
   "codemirror_mode": {
    "name": "ipython",
    "version": 3
   },
   "file_extension": ".py",
   "mimetype": "text/x-python",
   "name": "python",
   "nbconvert_exporter": "python",
   "pygments_lexer": "ipython3",
   "version": "3.9.12"
  }
 },
 "nbformat": 4,
 "nbformat_minor": 5
}
