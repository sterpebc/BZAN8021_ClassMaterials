{
 "cells": [
  {
   "cell_type": "markdown",
   "metadata": {},
   "source": [
    "## Dictionary Basics"
   ]
  },
  {
   "cell_type": "code",
   "execution_count": null,
   "metadata": {},
   "outputs": [],
   "source": [
    "mydict = .....   # Create empty dict"
   ]
  },
  {
   "cell_type": "markdown",
   "metadata": {},
   "source": [
    "## Put a new key into a dict"
   ]
  },
  {
   "cell_type": "code",
   "execution_count": null,
   "metadata": {
    "tags": []
   },
   "outputs": [],
   "source": [
    "mydict['day'] = 'Tuesday'\n",
    "mydict['year'] = 2022\n",
    "mydict['month'] = 'February'"
   ]
  },
  {
   "cell_type": "code",
   "execution_count": null,
   "metadata": {},
   "outputs": [],
   "source": [
    "mydict"
   ]
  },
  {
   "cell_type": "code",
   "execution_count": null,
   "metadata": {},
   "outputs": [],
   "source": [
    "# Variables work just fine\n",
    "newkey = 'flavor'\n",
    "flavor = 'mint chocolate chip'\n",
    "mydict[newkey] = flavor"
   ]
  },
  {
   "cell_type": "markdown",
   "metadata": {},
   "source": [
    "## Change a value"
   ]
  },
  {
   "cell_type": "code",
   "execution_count": null,
   "metadata": {
    "tags": []
   },
   "outputs": [],
   "source": [
    "mydict['day'] = 'Wednesday'"
   ]
  },
  {
   "cell_type": "code",
   "execution_count": null,
   "metadata": {},
   "outputs": [],
   "source": [
    "mydict"
   ]
  },
  {
   "cell_type": "markdown",
   "metadata": {},
   "source": [
    "## Get/read a value"
   ]
  },
  {
   "cell_type": "code",
   "execution_count": null,
   "metadata": {
    "tags": []
   },
   "outputs": [],
   "source": [
    "today = mydict['day']"
   ]
  },
  {
   "cell_type": "code",
   "execution_count": null,
   "metadata": {},
   "outputs": [],
   "source": [
    "today"
   ]
  },
  {
   "cell_type": "code",
   "execution_count": null,
   "metadata": {},
   "outputs": [],
   "source": [
    "# What if the key is not in the dictionary?\n",
    "mydict['no_such_key']"
   ]
  },
  {
   "cell_type": "markdown",
   "metadata": {},
   "source": [
    "## Does a dictionary have a certain key?"
   ]
  },
  {
   "cell_type": "code",
   "execution_count": null,
   "metadata": {
    "tags": []
   },
   "outputs": [],
   "source": [
    "'age' in mydict  # True if the key is in the dictionary"
   ]
  },
  {
   "cell_type": "code",
   "execution_count": null,
   "metadata": {
    "tags": []
   },
   "outputs": [],
   "source": [
    "if 'year' in mydict:\n",
    "    print(f\"The year is {mydict['year']}\")"
   ]
  },
  {
   "cell_type": "markdown",
   "metadata": {},
   "source": [
    "## What can be a dictionary key?"
   ]
  },
  {
   "cell_type": "markdown",
   "metadata": {},
   "source": [
    "## string, integer, tuple, any data type that is \"hashable\"\n",
    "## **NOT** a list"
   ]
  },
  {
   "cell_type": "code",
   "execution_count": null,
   "metadata": {},
   "outputs": [],
   "source": [
    "# Example of integer as dictionary key\n",
    "EagleID = 12904583\n",
    "school = 'CSOM'\n",
    "\n",
    "mydict[EagleID] = school"
   ]
  },
  {
   "cell_type": "code",
   "execution_count": null,
   "metadata": {},
   "outputs": [],
   "source": [
    "mydict"
   ]
  },
  {
   "cell_type": "code",
   "execution_count": null,
   "metadata": {},
   "outputs": [],
   "source": [
    "# Example of tuple as dictionary key\n",
    "part_number = '450J-386Q'\n",
    "size = 'Medium'\n",
    "warehouse_location = 'Aisle 5, Bay 3, Shelf 4'\n",
    "\n",
    "products = {}\n",
    "products[(part_number, size)] = warehouse_location"
   ]
  },
  {
   "cell_type": "code",
   "execution_count": null,
   "metadata": {},
   "outputs": [],
   "source": [
    "products"
   ]
  },
  {
   "cell_type": "markdown",
   "metadata": {},
   "source": [
    "## Let's add a few more parts to the `products` dictionary"
   ]
  },
  {
   "cell_type": "code",
   "execution_count": null,
   "metadata": {},
   "outputs": [],
   "source": [
    "for product in [\n",
    "    ('024J-330K', 'Small','Aisle 5, Bay 3, Shelf 2' ),\n",
    "    ('135J-730L', 'Medium','Aisle 2, Bay 1, Shelf 1' ),\n",
    "    ('246J-633M', 'Large','Aisle 4, Bay 2, Shelf 3' )\n",
    "    ]:\n",
    "    products......."
   ]
  },
  {
   "cell_type": "markdown",
   "metadata": {},
   "source": [
    "## How can we get the location of a product? We need to know its part number and size"
   ]
  },
  {
   "cell_type": "code",
   "execution_count": null,
   "metadata": {},
   "outputs": [],
   "source": [
    "# How can we get the location of a product? We need to know its part number and size.\n",
    "part_num = input('Enter part number: ')\n",
    "size = input('Enter size: ')\n",
    "location = .......\n",
    "print(f'Your part is located in {location}')"
   ]
  },
  {
   "cell_type": "markdown",
   "metadata": {},
   "source": [
    "## You can use a dictionary in a `for` loop"
   ]
  },
  {
   "cell_type": "code",
   "execution_count": null,
   "metadata": {
    "tags": []
   },
   "outputs": [],
   "source": [
    "for what_is_it in d:   # Loops through the keys in no special order\n",
    "    print(what_is_it)"
   ]
  },
  {
   "cell_type": "code",
   "execution_count": null,
   "metadata": {
    "tags": []
   },
   "outputs": [],
   "source": [
    "# Use each key to get the associated value\n",
    "for key in d:\n",
    "    print(f'{key}:{d[key]}')"
   ]
  },
  {
   "cell_type": "markdown",
   "metadata": {},
   "source": [
    "## Here are some dictionary methods (a method is a function that only works on a certain data type)"
   ]
  },
  {
   "cell_type": "code",
   "execution_count": null,
   "metadata": {},
   "outputs": [],
   "source": [
    "for key in d.keys():\n",
    "    print(key)"
   ]
  },
  {
   "cell_type": "code",
   "execution_count": null,
   "metadata": {},
   "outputs": [],
   "source": [
    "# Let's recap what dictionary `d` looks like...\n",
    "d"
   ]
  },
  {
   "cell_type": "code",
   "execution_count": null,
   "metadata": {
    "tags": []
   },
   "outputs": [],
   "source": [
    "# We can get a key and its value at the same time\n",
    "for whatever in d.items():\n",
    "    print(f'{whatever}')\n",
    "\n",
    "# Each time through the loop, items() returns a tuple containing\n",
    "# one key-value pair from the dictionary."
   ]
  },
  {
   "cell_type": "code",
   "execution_count": null,
   "metadata": {},
   "outputs": [],
   "source": [
    "# Recap on multiple assignment (\"tuple unpacking\")\n",
    "a, b = ('first element', 'second element')"
   ]
  },
  {
   "cell_type": "code",
   "execution_count": null,
   "metadata": {},
   "outputs": [],
   "source": [
    "a"
   ]
  },
  {
   "cell_type": "code",
   "execution_count": null,
   "metadata": {},
   "outputs": [],
   "source": [
    "b"
   ]
  },
  {
   "cell_type": "code",
   "execution_count": null,
   "metadata": {
    "tags": []
   },
   "outputs": [],
   "source": [
    "# Same example using tuple unpacking\n",
    "for key, value in d.items():\n",
    "    print(f'{key}:{value}')"
   ]
  },
  {
   "cell_type": "markdown",
   "metadata": {
    "tags": []
   },
   "source": [
    "## Suppose you have a list of dictionaries. Each dictionary represents one student in a class and contains all of that student's exam scores. For example:\n",
    "\n",
    "```\n",
    "students = [\n",
    "    {'id': 87654321, ‘exams’: [91,86,92] },\n",
    "    {'id': 12345678, ‘exams’: [87,90,89] },\n",
    "    {'id': 23344556, ‘exams’: [82,78,77] }\n",
    "]\n",
    "```\n",
    "\n",
    "Write Python code to compute the grade point average (out of 100) for each student. Put each student's grade point average in that student's dictionary using the key _gpa_."
   ]
  },
  {
   "cell_type": "code",
   "execution_count": null,
   "metadata": {
    "tags": []
   },
   "outputs": [],
   "source": [
    "students = [\n",
    "    {'id': 87654321, 'homework': [10,9,9,10,7,8], 'exams': [91,86,92] },\n",
    "    {'id': 12345678, 'homework': [9,9,9,8,8,10], 'exams': [87,90,89] },\n",
    "    {'id': 23344556, 'homework': [7,8,8,7,8,6], 'exams': [82,78,77] }\n",
    "]"
   ]
  },
  {
   "cell_type": "code",
   "execution_count": null,
   "metadata": {},
   "outputs": [],
   "source": []
  },
  {
   "cell_type": "code",
   "execution_count": null,
   "metadata": {
    "tags": []
   },
   "outputs": [],
   "source": [
    "# Solution\n",
    "for student in students:\n",
    "    exam_average = sum(student['exams']) / len(student['exams'])\n",
    "    student['gpa'] = exam_average"
   ]
  },
  {
   "cell_type": "code",
   "execution_count": null,
   "metadata": {},
   "outputs": [],
   "source": [
    "students"
   ]
  },
  {
   "cell_type": "markdown",
   "metadata": {},
   "source": [
    "## Let's use that soliloquy.py file to illustrate a common dictionary pattern"
   ]
  },
  {
   "cell_type": "code",
   "execution_count": null,
   "metadata": {},
   "outputs": [],
   "source": [
    "from soliloquy import paragraph"
   ]
  },
  {
   "cell_type": "code",
   "execution_count": null,
   "metadata": {},
   "outputs": [],
   "source": [
    "# This way uses IF\n",
    "\n",
    "d = {}\n",
    "\n",
    "for word in paragraph:\n",
    "    word = word.lower()\n",
    "    if word in d:\n",
    "        d[word] = d[word] + 1\n",
    "    else:\n",
    "         d[word] = 1"
   ]
  },
  {
   "cell_type": "code",
   "execution_count": null,
   "metadata": {},
   "outputs": [],
   "source": [
    "# Did d get created?\n",
    "d"
   ]
  },
  {
   "cell_type": "code",
   "execution_count": null,
   "metadata": {},
   "outputs": [],
   "source": [
    "# This way uses try/except\n",
    "\n",
    "d = {}\n",
    "\n",
    "for word in paragraph:\n",
    "    word = word.lower()\n",
    "    try:\n",
    "        d[word] = d[word] + 1\n",
    "\n",
    "    except KeyError:\n",
    "        d[word] = 1"
   ]
  },
  {
   "cell_type": "code",
   "execution_count": null,
   "metadata": {},
   "outputs": [],
   "source": [
    "d"
   ]
  }
 ],
 "metadata": {
  "kernelspec": {
   "display_name": "Python 3 (ipykernel)",
   "language": "python",
   "name": "python3"
  },
  "language_info": {
   "codemirror_mode": {
    "name": "ipython",
    "version": 3
   },
   "file_extension": ".py",
   "mimetype": "text/x-python",
   "name": "python",
   "nbconvert_exporter": "python",
   "pygments_lexer": "ipython3",
   "version": "3.11.3"
  }
 },
 "nbformat": 4,
 "nbformat_minor": 4
}
