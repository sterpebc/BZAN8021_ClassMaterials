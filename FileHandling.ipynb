{
 "cells": [
  {
   "cell_type": "markdown",
   "id": "dbe74e11-c17d-44a3-a256-3221b37ea2b3",
   "metadata": {
    "tags": []
   },
   "source": [
    "# File Handling"
   ]
  },
  {
   "cell_type": "markdown",
   "id": "ebad8cdc-ecc7-4491-811c-5f860a1b7cf9",
   "metadata": {},
   "source": [
    "To make your programs more interesting and more functional, you'll want to be able to save data. That is customarily done with a database, but how to design and interact with databases is beyond the scope of our course.\n",
    "\n",
    "So if we can't use a database, how can we save data? We'll write it to files. "
   ]
  },
  {
   "cell_type": "markdown",
   "id": "ca2aea2f-c748-444a-bb26-989b5744871c",
   "metadata": {},
   "source": [
    "## The File Object and Writing/Reading"
   ]
  },
  {
   "cell_type": "markdown",
   "id": "ea605651-668a-45f6-81cd-8a0d3d9e1173",
   "metadata": {},
   "source": [
    "### Opening a File"
   ]
  },
  {
   "cell_type": "markdown",
   "id": "8533f36b-5a63-45f4-9a82-282ba2820176",
   "metadata": {},
   "source": [
    "To work with a file, you first have to open it. This tells Python the name of the file you're interested in. Once you have opened a file, to get data from it, you perform a _read_ operation, and to put data into the file, you perform a _write_ operation.\n",
    "\n",
    "Opening a file is done with ... wait for it ... the open() function. We provide two arguments to open:\n",
    "\n",
    "* a string that names the file we want to open ('data.txt')\n",
    "* a string that indicates what we want to do with the file; possible values for this string are:\n",
    "  * 'r' meaning we want to read from the file\n",
    "  * 'w' meaning we want to write to the file\n",
    "  * 'a' meaning we want to append to the file\n",
    "\n",
    "For example, try the code below:"
   ]
  },
  {
   "cell_type": "code",
   "execution_count": null,
   "id": "90e1cda9-aacd-41a5-b0cc-29402f14e08a",
   "metadata": {},
   "outputs": [],
   "source": [
    "f = open('data.txt', 'w')"
   ]
  },
  {
   "cell_type": "markdown",
   "id": "c09dc2a5-149b-4e93-82a8-0c82fc259501",
   "metadata": {},
   "source": [
    "When you open a file for writing (the second argument to open() is a 'w'), Python creates the file for you. If the file already exists, _everything you write replaces what is already in the file_. Said more colloquially, writing \"blows away\" the existing contents of the file."
   ]
  },
  {
   "cell_type": "markdown",
   "id": "ef2271d7-9a94-46c7-b3ce-5f281f119234",
   "metadata": {},
   "source": [
    "What if you just want to add to the end of the file without blowing away what is already in the file? That's what append does -- it adds everything you write to the end of the file without altering what is already there."
   ]
  },
  {
   "cell_type": "markdown",
   "id": "77689160-a28c-414f-910a-f249f51deeac",
   "metadata": {},
   "source": [
    "What about the variable `f`? The `open()` function returned us some sort of Python object, and we assigned that to a variable we called `f`. So what did `open()` return?\n",
    "\n",
    "When you open a file, the `open()` function returns a _file object_. Think of a file object as a remote control that you can use to manipulate the file. You need the file object so you can do things to the file like read from it or write to it."
   ]
  },
  {
   "cell_type": "markdown",
   "id": "d43c9128-02ff-4ef0-8ce8-e6b0e60593b9",
   "metadata": {},
   "source": [
    "## Writing Text to a File"
   ]
  },
  {
   "cell_type": "markdown",
   "id": "a82f2715-f969-4ee6-aa47-18392f2759a4",
   "metadata": {},
   "source": [
    "Let's write something to our file. Be sure you have run the `f = open(...)` code cell above, then run the following code:"
   ]
  },
  {
   "cell_type": "code",
   "execution_count": null,
   "id": "5411f739-0e2d-42dc-a6c0-bedc491f5d1f",
   "metadata": {},
   "outputs": [],
   "source": [
    "f.write('This is a line of text.\\n')\n",
    "f.write('This is another line of text.\\n')\n",
    "f.close()"
   ]
  },
  {
   "cell_type": "markdown",
   "id": "1aabf41b-6c82-4d1f-b978-5052aa038a76",
   "metadata": {},
   "source": [
    "In Jupyter, you should see a new file named _data.txt_ in your current folder. You can double-click it in Jupyter to open it."
   ]
  },
  {
   "cell_type": "markdown",
   "id": "7189c941-f150-49e9-aa0c-7c66ce2613a2",
   "metadata": {},
   "source": [
    "Let's break down what we just did:\n",
    "\n",
    "* Our file object is in variable `f`. When we say `f.write()`, we're asking the file object to write to the file. What will it write? The string that we pass as an argument to `write()`.\n",
    "* So what does `f.close()` do? This asks the file object to close the file, which means we're done writing to the file. When you are finished with a file object, you must always close() it. You only have to close a file when you're totally finished with it. You do not close the file after every time you write to it; only when you have done all the writing you intend to do. You cannot write to a file after you close() it; to do so, you'd have to open() it again.\n",
    "\n",
    "Notice that the string we wrote to the file ended with a newline character, denoted by `\\n`. A file is just a stream of characters; if you want to break your text into lines, you need a newline character to separate each line."
   ]
  },
  {
   "cell_type": "markdown",
   "id": "5bfd84da-895e-4680-bad4-9a60ce809e36",
   "metadata": {},
   "source": [
    "## Reading From a File"
   ]
  },
  {
   "cell_type": "markdown",
   "id": "66f8cdf2-9f3d-415e-92e6-ba07c55ec604",
   "metadata": {},
   "source": [
    "Python has multiple ways to read from a file. The easiest is to loop through the file one line at a time. For example, try this code:"
   ]
  },
  {
   "cell_type": "code",
   "execution_count": null,
   "id": "f745780e-f03b-494b-ad35-c63f91476d09",
   "metadata": {},
   "outputs": [],
   "source": [
    "f = open('data.txt', 'r')\n",
    "\n",
    "for line in f:\n",
    "    print(line)\n",
    "    \n",
    "f.close()"
   ]
  },
  {
   "cell_type": "code",
   "execution_count": null,
   "id": "9ddef880-2eef-4b82-8c0d-2c550f6b35d4",
   "metadata": {},
   "outputs": [],
   "source": [
    "f = open('data.txt', 'r')\n",
    "\n",
    "for line in f:   # line will be a string\n",
    "    for char in line:\n",
    "        print(char)\n",
    "    print('*** end of line ***')\n",
    "    \n",
    "f.close()"
   ]
  },
  {
   "cell_type": "code",
   "execution_count": null,
   "id": "8f14f18a-ac49-406a-802e-664d9c72a72a",
   "metadata": {},
   "outputs": [],
   "source": [
    "otherfile = open('somedata.txt', 'w')\n",
    "otherfile.write('65')\n",
    "otherfile.close()"
   ]
  },
  {
   "cell_type": "markdown",
   "id": "3cb22295-f10d-43fa-b3e8-daa32c21f946",
   "metadata": {},
   "source": [
    "Although the file object, `f`, is not a Python list, you _can_ use it in a `for` loop. Each time through the loop, you get the next line from the file as a string. (Python uses the file object to keep track of where it is in the file.)"
   ]
  },
  {
   "cell_type": "markdown",
   "id": "ee696b18-0226-40d2-9e4a-af8c3f4209de",
   "metadata": {},
   "source": [
    "If you ran the code above, you might have noticed that each line of output had an extra blank line after it. This is because, each time through the loop, the variable `line` contains one line of text from the file, and _every line of text ends with a newline character_ (`'\\n'`). "
   ]
  },
  {
   "cell_type": "markdown",
   "id": "56ef2e45-a10a-4ee6-b300-03ae61491c92",
   "metadata": {},
   "source": [
    "For example, the first time through the loop, here is the value of `line`:\n",
    "\n",
    "`This is a line of text.\\n`"
   ]
  },
  {
   "cell_type": "markdown",
   "id": "954aa8f1-4185-4a5d-8c5d-133f0580de9d",
   "metadata": {},
   "source": [
    "The newline character that marks the end of the line is considered part of the line by Python. When we print this variable, it contains a newline (`'\\n'`), and then the `print()` function adds its own newline, so we get two blank lines."
   ]
  },
  {
   "cell_type": "markdown",
   "id": "b48b25fb-92d3-43ef-aed0-ac5f95c0467c",
   "metadata": {},
   "source": [
    "Each time the `for` loop gives us a line of text from the file, if we don't want that newline character at the end of the string, can we get rid of it? Yes, easily. Here's how:"
   ]
  },
  {
   "cell_type": "code",
   "execution_count": null,
   "id": "77dba7ac-fc2c-4027-a1a7-6dff26056e42",
   "metadata": {},
   "outputs": [],
   "source": [
    "f = open('data.txt', 'r')\n",
    "\n",
    "for line in f:\n",
    "    line = line.rstrip('\\n')\n",
    "    print(line)\n",
    "    \n",
    "f.close()"
   ]
  },
  {
   "cell_type": "markdown",
   "id": "324324a5-804d-4d9d-9364-19bc60e5a871",
   "metadata": {},
   "source": [
    "The `line` variable is a string, so we can use the string method `rstrip` to strip any newlines from the end of the string. Note the argument to `rstrip` -- it is a string. It tells `rstrip` to look for any of the characters in this string at the end of the string it is operating on (`line` in this case). If it finds any of them, it should remove them.\n",
    "\n",
    "A string cannot be modified, so `rstrip` returns a new string. The 'r' in `rstrip` stands for 'right,' meaning to strip the given character from the 'right' side of the string."
   ]
  },
  {
   "cell_type": "markdown",
   "id": "d6be7ba1-6766-46dd-83a2-435510f73821",
   "metadata": {},
   "source": [
    "Try the code below:"
   ]
  },
  {
   "cell_type": "code",
   "execution_count": null,
   "id": "264da0eb-8540-4d70-9a2b-1660146f34c4",
   "metadata": {},
   "outputs": [],
   "source": [
    "f = open('data.txt', 'r')\n",
    "\n",
    "for line in f:\n",
    "    line = line.rstrip('\\n')\n",
    "    print(line)\n",
    "\n",
    "for line in f:\n",
    "    line = line.rstrip('\\n')\n",
    "    print(line)\n",
    "\n",
    "f.close()"
   ]
  },
  {
   "cell_type": "markdown",
   "id": "8ac8d36c-72e3-4749-a115-a3d98df2dfd7",
   "metadata": {},
   "source": [
    "The first `for` loop prints every line in the file. The second `for` loop tries to do the same thing, but nothing comes out. Why?"
   ]
  },
  {
   "cell_type": "markdown",
   "id": "f2ffefa1-ef23-4334-b93d-4aa3bf0b5058",
   "metadata": {},
   "source": [
    "As you loop through the file object, `f`, Python is keeping track of where it is in the file. The first `for` loop brings Python all the way to the end of the file. When the second `for` loop runs, Python is already at the end of the file. There are no lines left, so the loop ends immediately."
   ]
  }
 ],
 "metadata": {
  "kernelspec": {
   "display_name": "Python 3 (ipykernel)",
   "language": "python",
   "name": "python3"
  },
  "language_info": {
   "codemirror_mode": {
    "name": "ipython",
    "version": 3
   },
   "file_extension": ".py",
   "mimetype": "text/x-python",
   "name": "python",
   "nbconvert_exporter": "python",
   "pygments_lexer": "ipython3",
   "version": "3.11.7"
  }
 },
 "nbformat": 4,
 "nbformat_minor": 5
}
