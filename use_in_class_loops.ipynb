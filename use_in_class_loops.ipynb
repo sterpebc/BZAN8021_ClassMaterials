{
 "cells": [
  {
   "cell_type": "markdown",
   "id": "738e7e07-ddd5-4425-a8e6-5debf26fa39e",
   "metadata": {},
   "source": [
    "# Loops: _while_ and _for_"
   ]
  },
  {
   "cell_type": "markdown",
   "id": "1a949184",
   "metadata": {},
   "source": [
    "## The `for` loop\n",
    "\n",
    "### Use the `for` loop to _loop through_ a set of values."
   ]
  },
  {
   "cell_type": "code",
   "execution_count": null,
   "id": "c4e2e906",
   "metadata": {},
   "outputs": [],
   "source": [
    "words = ['up', 'walk', 'sing', 'hello', 'class']\n",
    "\n",
    "for word in words:\n",
    "    print(word)"
   ]
  },
  {
   "cell_type": "code",
   "execution_count": null,
   "id": "886408ee",
   "metadata": {},
   "outputs": [],
   "source": [
    "# How can we print just the 4-letter words?\n",
    "for word in words:\n",
    "    pass"
   ]
  },
  {
   "cell_type": "code",
   "execution_count": null,
   "id": "4f6fc0fb",
   "metadata": {},
   "outputs": [],
   "source": [
    "# How can we count the 4-letter words?\n"
   ]
  },
  {
   "cell_type": "markdown",
   "id": "ae70d176",
   "metadata": {},
   "source": [
    "## The `range` function is handy for looping through a given range of numbers."
   ]
  },
  {
   "cell_type": "code",
   "execution_count": null,
   "id": "83b6143a",
   "metadata": {},
   "outputs": [],
   "source": [
    "low = 1\n",
    "high = 11\n",
    "for i in range(low, high):\n",
    "    print(i)"
   ]
  },
  {
   "cell_type": "markdown",
   "id": "0043a5f9-efe6-4e83-a6dd-887c4fec632e",
   "metadata": {},
   "source": [
    "## The `while` loop\n",
    "\n",
    "### Use the `while` loop to _loop until_ some condition is met."
   ]
  },
  {
   "cell_type": "code",
   "execution_count": null,
   "id": "afa578cd-c291-439a-82a5-b375f848f73a",
   "metadata": {
    "tags": []
   },
   "outputs": [],
   "source": [
    "n = 0\n",
    "\n",
    "while n < 5:\n",
    "    print('You look mahvelous')\n",
    "    n = n + 1\n",
    "print('this is after the loop')"
   ]
  },
  {
   "cell_type": "code",
   "execution_count": null,
   "id": "a18fcbec-8876-4cd7-bc48-74c4f731dfe0",
   "metadata": {
    "tags": []
   },
   "outputs": [],
   "source": [
    "secret = 7\n",
    "your_guess = 0\n",
    "\n",
    "# Let the user keep guessing until they get it..."
   ]
  },
  {
   "cell_type": "code",
   "execution_count": null,
   "id": "02ad397c-b7ce-4d50-a07b-9ebc434423c7",
   "metadata": {
    "tags": []
   },
   "outputs": [],
   "source": [
    "from random import randint\n",
    "\n",
    "# Give the user a random integer until the user says to quit...\n"
   ]
  },
  {
   "cell_type": "markdown",
   "id": "6ff472fc",
   "metadata": {},
   "source": [
    "# Try this...\n",
    "## Write code to simulate rolling 2 dice (6-sided dice). Count how many \"rolls\" it takes until you get double-sixes."
   ]
  },
  {
   "cell_type": "code",
   "execution_count": null,
   "id": "cfeb72af",
   "metadata": {},
   "outputs": [],
   "source": [
    "from random import randint\n",
    "\n",
    "\n"
   ]
  }
 ],
 "metadata": {
  "kernelspec": {
   "display_name": "Python 3 (ipykernel)",
   "language": "python",
   "name": "python3"
  },
  "language_info": {
   "codemirror_mode": {
    "name": "ipython",
    "version": 3
   },
   "file_extension": ".py",
   "mimetype": "text/x-python",
   "name": "python",
   "nbconvert_exporter": "python",
   "pygments_lexer": "ipython3",
   "version": "3.9.12"
  }
 },
 "nbformat": 4,
 "nbformat_minor": 5
}
