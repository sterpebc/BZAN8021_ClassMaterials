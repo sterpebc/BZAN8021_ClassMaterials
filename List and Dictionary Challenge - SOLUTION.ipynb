{
 "cells": [
  {
   "cell_type": "code",
   "execution_count": null,
   "metadata": {},
   "outputs": [],
   "source": [
    "f = open('votedata.txt', 'r')\n",
    "\n",
    "votes = {}\n",
    "\n",
    "for line in f:\n",
    "    line = line.rstrip('\\n')\n",
    "    \n",
    "    candidate, city = line.split(';')\n",
    "#     The 1 line above is a better way to do these 3 lines:\n",
    "#     line_list = line.split(';')\n",
    "#     candidate = line_list[0]\n",
    "#     city = line_list[1]\n",
    "\n",
    "    if candidate not in votes:\n",
    "        votes[candidate] = {city:1}\n",
    "    else:\n",
    "        dict = votes[candidate]\n",
    "        if city in dict:\n",
    "            dict[city] += 1  # dict[city] = dict[city] + 1\n",
    "        else:\n",
    "            dict[city] = 1\n",
    "\n",
    "f.close()\n",
    "\n",
    "for candidate, vote_dict in votes.items():\n",
    "    print(candidate)\n",
    "    for city, vote_count in vote_dict.items():\n",
    "        print('   ', city, vote_count)"
   ]
  }
 ],
 "metadata": {
  "kernelspec": {
   "display_name": "Python 3",
   "language": "python",
   "name": "python3"
  },
  "language_info": {
   "codemirror_mode": {
    "name": "ipython",
    "version": 3
   },
   "file_extension": ".py",
   "mimetype": "text/x-python",
   "name": "python",
   "nbconvert_exporter": "python",
   "pygments_lexer": "ipython3",
   "version": "3.11.3"
  }
 },
 "nbformat": 4,
 "nbformat_minor": 4
}
