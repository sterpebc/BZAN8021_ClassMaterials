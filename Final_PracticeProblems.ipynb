{
 "cells": [
  {
   "cell_type": "markdown",
   "metadata": {},
   "source": [
    "# BZAN8021 Final Exam Practice Problems\n",
    "\n",
    "Some of these are a bit harder than you'd see on the final exam."
   ]
  },
  {
   "cell_type": "markdown",
   "metadata": {},
   "source": [
    "## Problem 1\n",
    "\n",
    "Suppose you want to see if some text contains any words you consider unacceptable. For our purposes, let's say that there is just one unacceptable word: _rain_.\n",
    "\n",
    "Write a function named _detect_ that takes one argument, a string. Your function should return True if the string contains the word _rain_, False if not. There are some special rules for this, however:\n",
    "\n",
    "**The Special Rules**\n",
    "* Only look for _rain_ in lowercase.\n",
    "* _rain_ must be a complete word; don't be fooled by longer words that might contain the letters _rain_ in them.\n",
    "* _rain_ could be anywhere in the string, that is, the first word, the last word, or somewhere in the middle.\n",
    "\n",
    "**An Assumption You May Make**\n",
    "* The argument string will not contain any punctuation symbols, except that if it contains multiple words, there will be exactly one space between them.\n",
    "\n",
    "**Examples**\n",
    "```\n",
    "detect('The rain in Spain')  should return True\n",
    "detect('Walk in the rain')   should return True\n",
    "detect('Rain today')         should return False (we only want rain in lowercase)\n",
    "detect('Down the drain')     should return False (rain contained within drain)\n",
    "```\n",
    "\n",
    "**Reminders**\n",
    "* Write a function. The function must be named _detect_, and it must have one parameter.\n",
    "* Include a `return` statement -- your function must return a value.\n",
    "* `True` and `False` are special values in Python. They are not strings -- no quotes around them."
   ]
  },
  {
   "cell_type": "code",
   "execution_count": null,
   "metadata": {},
   "outputs": [],
   "source": [
    "# Problem 1 code...\n"
   ]
  },
  {
   "cell_type": "markdown",
   "metadata": {},
   "source": [
    "## Problem 2\n",
    "\n",
    "Write a function named `movie` that determines if a given moviegoer can be admitted to see a film. Your function should accept three parameters which represent:\n",
    "* the rating of the film as a string, e.g., `'G'`, `'R'`, etc.\n",
    "* the age of the moviegoer as an integer\n",
    "* whether the moviegoer is accompanied by an adult as a Boolean\n",
    "\n",
    "Your function should return True if the moviegoer can be admitted, False otherwise.\n",
    "\n",
    "Here are our rules for admission (these are not real):\n",
    "* If the movie is rated `G`, anyone can be admitted\n",
    "* If the movie is `PG` or `PG13`, only moviegoers over the age of 13 can be admitted\n",
    "* If the movie is `R`, anyone who is 17 or older can be admitted; moviegoers who are under 17 can be admitted if they are accompanied by an adult\n",
    "\n",
    "You may assume that the only possible movie ratings are `G`, `PG`, `PG13`, and `R`."
   ]
  },
  {
   "cell_type": "code",
   "execution_count": null,
   "metadata": {},
   "outputs": [],
   "source": [
    "# Problem 2 code...\n"
   ]
  },
  {
   "cell_type": "markdown",
   "metadata": {},
   "source": [
    "## Problem 3\n",
    "\n",
    "Write a function named `code` that accepts two parameters which you may assume are a string and an integer. You may give the parameters any names you like, but for discussion let's refer to them as `s` and `n`. Your function should return a new string consisting of the first `n` characters of `s`, followed by a dash (`-`), followed by the last `n` characters of `s`. For this to make sense, the first argument should have at least `2*n` characters in it; if it doesn't, return an empty string (`''`). You may assume that `n` is greater than 0."
   ]
  },
  {
   "cell_type": "code",
   "execution_count": null,
   "metadata": {},
   "outputs": [],
   "source": [
    "# Problem 3 code...\n"
   ]
  },
  {
   "cell_type": "markdown",
   "metadata": {},
   "source": [
    "## Problem 4\n",
    "\n",
    "You may know that it's possible to determine if a credit card number is fake by performing a computation on its digits. If the computation doesn't work out, the number cannot be real. The actual computation is rather complex, so let's invent a simpler one. Write a function named `cc` that accepts one parameter which you may assume is a string. Your function should return True if the string represents a valid credit card number, False otherwise.\n",
    "\n",
    "Here are our (rather simple) rules to determine validity:\n",
    "* the string must contain a dash (`-`) every 4 characters, e.g., xxxx-xxxx-xxxx-xxxx\n",
    "* the string must contain exactly 19 characters including the dashes\n",
    "* the second group of 4 characters cannot contain a zero\n",
    "\n",
    "You do not have to determine if the non-dash characters are actually digits; you may assume they are."
   ]
  },
  {
   "cell_type": "code",
   "execution_count": null,
   "metadata": {},
   "outputs": [],
   "source": [
    "# Problem 4 code...\n"
   ]
  },
  {
   "cell_type": "markdown",
   "metadata": {},
   "source": [
    "## Problem 5\n",
    "\n",
    "Write a function named `subset` that accepts one parameter which you may assume is a list of strings. You may give the parameter any name you want, but for discussion, let's call it `l`. Your function should return a list containing all the strings from `l` that contain either `bc` or `xyz`."
   ]
  },
  {
   "cell_type": "code",
   "execution_count": null,
   "metadata": {},
   "outputs": [],
   "source": [
    "# Problem 5 code...\n"
   ]
  },
  {
   "cell_type": "markdown",
   "metadata": {},
   "source": [
    "## Problem 6\n",
    "\n",
    "As a variation on Problem 5, write a function named `subset2` that accepts one parameter which you may assume is a list of strings. You may give the parameter any name you want, but for discussion, let's call it `l`. Your function should return a list containing all the strings from `l` that contain either `bc` or `xyz` _but not both_."
   ]
  },
  {
   "cell_type": "code",
   "execution_count": null,
   "metadata": {},
   "outputs": [],
   "source": [
    "# Problem 6 code...\n"
   ]
  },
  {
   "cell_type": "markdown",
   "metadata": {},
   "source": [
    "## Problem 7\n",
    "\n",
    "Write a function named `repeat` that accepts two parameters. You may give the parameters any names you want, but for discussion, let's call them `d` and `n`. You may assume that `d` is a 1-digit integer greater than 0, and you may assume that `n` is greater than 0. Your function should return an integer consisting of the digit `d` repeated `n` times.\n",
    "\n",
    "For example:\n",
    "```\n",
    "repeat(3, 4) should return the number 3333 (3 repeated 4 times)\n",
    "repeat(1, 6) should return the number 111111 (1 repeated 6 times)\n",
    "repeat(9, 1) should return the number 9 (9 repeated 1 time)\n",
    "```"
   ]
  },
  {
   "cell_type": "code",
   "execution_count": null,
   "metadata": {},
   "outputs": [],
   "source": [
    "# Problem 7 code...\n"
   ]
  },
  {
   "cell_type": "markdown",
   "metadata": {},
   "source": [
    "# Solutions"
   ]
  },
  {
   "cell_type": "code",
   "execution_count": null,
   "metadata": {},
   "outputs": [],
   "source": [
    "# Problem 1 solution\n",
    "def detect(string):\n",
    "    for word in string.split(' '):\n",
    "        if word == 'rain':\n",
    "            return True\n",
    "    return False"
   ]
  },
  {
   "cell_type": "code",
   "execution_count": null,
   "metadata": {},
   "outputs": [],
   "source": [
    "# Problem 2 solution\n",
    "def movie(rating, age, adult):\n",
    "    if rating == 'G':\n",
    "        return True\n",
    "    elif rating == 'PG' or rating == 'PG13':\n",
    "        if age > 13:\n",
    "            return True\n",
    "        else:\n",
    "            return False\n",
    "    else:   # must be R\n",
    "        if age >= 17 or adult == True:\n",
    "            return True\n",
    "        else:\n",
    "            return False"
   ]
  },
  {
   "cell_type": "markdown",
   "metadata": {},
   "source": [
    "### Solution for Problem 2 that uses a little less code...\n",
    "\n",
    "If variable `b` is Boolean, that means it's True or False, so you don't need to say `if b == True`, you can just say `if b`. The expression after `if` is evaluated to see if it's `True` or `False`. If `b` is a Boolean and is `True`, then `if b` is the same as `if True`. If `b` is `False`, then `if b` is the same as `if False`. Either way, the expression after `if` is something `True` or `False`, so you don't need the comparison `if b == True`."
   ]
  },
  {
   "cell_type": "code",
   "execution_count": null,
   "metadata": {},
   "outputs": [],
   "source": [
    "# Problem 2 solution using a little less code\n",
    "def movie(rating, age, adult):\n",
    "    if rating == 'G':\n",
    "        return True\n",
    "    elif rating == 'PG' or rating == 'PG13':\n",
    "        return age > 13\n",
    "    else:   # must be R\n",
    "        return (age >= 17) or adult"
   ]
  },
  {
   "cell_type": "code",
   "execution_count": null,
   "metadata": {},
   "outputs": [],
   "source": [
    "# Problem 3 solution\n",
    "def code(s, n):\n",
    "    if len(s) < 2*n:\n",
    "        return ''\n",
    "    else:\n",
    "        return s[0:n] + '-' + s[-n:]   # Could use an f-string here instead: return f'{s[0:n]}-{s[-n:]}'\n"
   ]
  },
  {
   "cell_type": "code",
   "execution_count": null,
   "metadata": {},
   "outputs": [],
   "source": [
    "# Problem 4 solution\n",
    "def cc(numstring):\n",
    "    if len(numstring) != 19:\n",
    "        return False\n",
    "    if numstring[4] != '-' or numstring[9] != '-' or numstring[14] != '-':\n",
    "        return False\n",
    "    second_group = numstring.split('-')[1]\n",
    "    return '0' not in second_group   # Could write this as return not ('0' in second_group)\n"
   ]
  },
  {
   "cell_type": "code",
   "execution_count": null,
   "metadata": {},
   "outputs": [],
   "source": [
    "# Problem 5 solution\n",
    "def subset(l):\n",
    "    result = []\n",
    "    for string in l:\n",
    "        if 'bc' in string or 'xyz' in string:\n",
    "            result.append(string)\n",
    "\n",
    "    return result\n"
   ]
  },
  {
   "cell_type": "code",
   "execution_count": null,
   "metadata": {},
   "outputs": [],
   "source": [
    "# Problem 6 solution\n",
    "def subset2(l):\n",
    "    result = []\n",
    "    for string in l:\n",
    "        if ('bc' in string and 'xyz' not in string) or ('xyz' in string and 'bc' not in string):\n",
    "            result.append(string)\n",
    "\n",
    "    return result"
   ]
  },
  {
   "cell_type": "code",
   "execution_count": null,
   "metadata": {},
   "outputs": [],
   "source": [
    "# Problem 7 solution\n",
    "def repeat(d, n):\n",
    "    return int(str(d) * n)\n"
   ]
  }
 ],
 "metadata": {
  "kernelspec": {
   "display_name": "base",
   "language": "python",
   "name": "python3"
  },
  "language_info": {
   "codemirror_mode": {
    "name": "ipython",
    "version": 3
   },
   "file_extension": ".py",
   "mimetype": "text/x-python",
   "name": "python",
   "nbconvert_exporter": "python",
   "pygments_lexer": "ipython3",
   "version": "3.11.7"
  }
 },
 "nbformat": 4,
 "nbformat_minor": 2
}
