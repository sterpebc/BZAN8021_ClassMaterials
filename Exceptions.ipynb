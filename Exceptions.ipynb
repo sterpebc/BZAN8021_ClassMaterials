{
 "cells": [
  {
   "cell_type": "markdown",
   "metadata": {},
   "source": [
    "# Exceptions and Exception Handling"
   ]
  },
  {
   "cell_type": "markdown",
   "metadata": {},
   "source": [
    "## What an Exception Means\n",
    "Up to this point in the course, you have heard mention of \"Python errors.\" And you might have experienced them in your code, too. The Python terminology for a Python error is _exception_. We say that Python _raises an exception_ when something bad has happened that Python can't recover from -- division by 0, trying to convert \"monkeypickles\" into an integer, or trying to look up a value in a dictionary using a non-existent key. Raising an exception is something like _raising an objection_ when you hear something that you can't let pass -- the action stops so that the objection/exception can be voiced."
   ]
  },
  {
   "cell_type": "markdown",
   "metadata": {},
   "source": [
    "When Python stops the action to raise an exception, it isn't pretty. Your program terminates. And Python prints a lot of information that can be awfully cryptic. It's tempting to ignore what Python prints, especially if it seems not to make sense. On that, it comes down to judgment: you need to distinguish between what you can safely ignore, and what you really need to know if you're ever going to figure out your error. Here's how to do that."
   ]
  },
  {
   "cell_type": "markdown",
   "metadata": {},
   "source": [
    "The code cell below will raise an exception. Run the cell, and we'll look at what Python prints."
   ]
  },
  {
   "cell_type": "code",
   "execution_count": null,
   "metadata": {},
   "outputs": [],
   "source": [
    "a_list = [2, 4, 6, 8]\n",
    "for i in range(0, 5):\n",
    "    print(f'List index {i} has value {a_list[i]}.')"
   ]
  },
  {
   "cell_type": "markdown",
   "metadata": {},
   "source": [
    "Fun, right? Here's a picture of what your screen probably looks like:\n",
    "![Exception output](exception_1.png)"
   ]
  },
  {
   "cell_type": "markdown",
   "metadata": {},
   "source": [
    "The \"exception\" part is everything with the pinkish background. There's a load of information there -- let's ignore most of it. What you need to focus on:\n",
    "1. There's an arrow pointing at the line of code that caused the problem. In this case, the arrow (---->) is pointing at line 3.\n",
    "1. There's a message describing the error. In this case, the message is _IndexError: list index out of range_.\n",
    "\n",
    "It takes some experience to decipher the error messages, but you can figure out a lot of it. You know what a list is, and a _list index_ is a number we use to retrieve some value from a list. We're being told that some list index was _out of range_. In other words, the index was too big given the length of the list. Well, what would be \"in range?\" The only list on line 3 is *a_list* -- how big can an index be if you're working with that list? The highest legal index for that list is 3 because the list has 4 elements. Clearly, we exceeded that, so somehow, our code tried to retrieve a value using an index greater than 3."
   ]
  },
  {
   "cell_type": "markdown",
   "metadata": {},
   "source": [
    "You can use the debugger to help you, or you can stare at it a while and realize that `range(0, 5)` is going to give you the values `[0, 1, 2, 3, 4]`. The loop variable _i_ takes on each of those values, and _i_ is being used as an index into *a_list*. Aha! That means, at some point, the code is going to try `a_list[i]` when i equals 4 -- that's the bug!"
   ]
  },
  {
   "cell_type": "markdown",
   "metadata": {},
   "source": [
    "Make a deal with yourself that whenever you get a Python exception, you will at least look at the offending line, and you will at least _try_ to make sense of the (cryptic) error message. With a little bit of puzzling it out, you'll probably see your mistake. A habit you should _not_ get into is saying, \"For some reason, I'm getting an error.\" For _some_ reason, as if the reason is completely unknowable? Afraid not. The reason is always right there on screen for you in the error message. It might be hard to understand, but it's there, and as you gain experience, the error messages will make more and more sense to you -- as long as you don't gloss over them without reading. :-)"
   ]
  },
  {
   "cell_type": "markdown",
   "metadata": {},
   "source": [
    "## Handling Exceptions\n",
    "Sometimes you have a real error, and it's fine that Python terminates your program and spews an error message at you -- you need to know about this so you can fix your bug. But sometimes, the error is something we can expect might happen. For example, look at the code in the next cell:"
   ]
  },
  {
   "cell_type": "code",
   "execution_count": null,
   "metadata": {},
   "outputs": [],
   "source": [
    "secret_number = 7  # Sssshhh!!!!\n",
    "\n",
    "your_guess = input('Try to guess my secret number: ')\n",
    "if int(your_guess) == secret_number:\n",
    "    print('You win!')\n",
    "else:\n",
    "    print('Aww...too bad.')"
   ]
  },
  {
   "cell_type": "markdown",
   "metadata": {},
   "source": [
    "Suppose you are the user that runs this program. If you play by the rules and type an actual number, everything will be fine. But if you decide to be devilish and type _aardvark_, the code will produce an error when it tries to convert _aardvark_ to an integer. A programmer can anticipate this -- maybe the user will enter some input that doesn't make sense. But if the user does that, is the programmer doomed? Does the program have to die with an ugly error message? No, it does not.\n",
    "\n",
    "Python gives programmers a way to handle it when an exception occurs. Here's a revised way to code the program above:"
   ]
  },
  {
   "cell_type": "code",
   "execution_count": null,
   "metadata": {},
   "outputs": [],
   "source": [
    "secret_number = 7  # Sssshhh!!!!\n",
    "\n",
    "your_guess = input('Try to guess my secret number: ')\n",
    "try:\n",
    "    if int(your_guess) == secret_number:\n",
    "        print('You win!')\n",
    "    else:\n",
    "        print('Aww...too bad.')\n",
    "except Exception as ex:\n",
    "    print('Please enter a valid number!')\n",
    "    \n",
    "print('Great game, huh?')"
   ]
  },
  {
   "cell_type": "markdown",
   "metadata": {},
   "source": [
    "The code is nearly the same as before. The difference is that our code has been indented beneath a `try`, and following the `try` is an `except Exception as ex`. The _try_ and _except_ clauses go together. This is what they tell Python to do:\n",
    "* Run the lines of code that are indented beneath the _try_. In other words, \"try\" them.\n",
    "* If any line of code beneath the _try_ raises an exception, stop running those lines, but don't terminate the program as you would usually do. Instead, skip immediately down to the _except_ clause and run any lines you find indented beneath _except_.\n",
    "\n",
    "Let's look at what happens under two scenarios: A) the user enters a valid number, and B) the user enters _aardvark_.\n",
    "\n",
    "### Scenario A: Valid input\n",
    "* Line 3 obtains input from the user\n",
    "* Line 5 successfully converts the user's input to an integer. The _if_ is either True or False, so either Line 6 or Line 8 runs.\n",
    "* Line 12 is then executed\n",
    "\n",
    "### Scenario B: Invalid input\n",
    "* Line 3 obtains input from the user\n",
    "* Line 5 fails to convert the user's input to an integer, and Python raises an exception\n",
    "* Python skips immediately to Line 10 inside the _except_ clause\n",
    "* Line 12 is then executed"
   ]
  },
  {
   "cell_type": "markdown",
   "metadata": {},
   "source": [
    "With a try/except, the _try_ code always runs. Or at least Python tries to run it. The _except_ code is only run if the _try_ code raises an exception. This mechanism gives the coder a chance to handle an error gracefully. Instead of letting Python spew an ugly message at the user, the coder can intervene and do something nicer such as print a more informative message.\n",
    "\n",
    "Important to realize is that the program continues after a try/except. In the example above, Line 12 was executed in both scenarios. If you as the coder know that the program really _cannot_ continue after the error, then in the _except_ code, you can terminate the program yourself. Otherwise, everything keeps going.\n",
    "\n",
    "Whether you can continue after an error comes down to the nature of the error. Sometimes you can get past an error, e.g., if you ask the user to enter _yes_ or _no_ and the user just hits _Enter_, maybe you can treat that as a _yes_ and keep going. But sometimes, it doesn't make sense to keep going. If you are calculating a length and you end up trying to take the square root of a negative number, you are probably stuck. In that case, you can use the _except_ code to inform the user (in your own words instead of Python's words!) and terminate the program."
   ]
  },
  {
   "cell_type": "markdown",
   "metadata": {},
   "source": [
    "So far, we have not paid attention to the syntax of the _except_ clause: `except Exception as ex`. The next section clarifies this."
   ]
  },
  {
   "cell_type": "markdown",
   "metadata": {},
   "source": [
    "## Handling Specific Exceptions\n",
    "We do need to look more closely at the information we have been ignoring. The line labeled _2_ in the picture begins with _IndexError_ -- that is what _kind_ of exception was raised. There are _kinds_ of exceptions? Yes, indeed. Here are a few of them:\n",
    "```\n",
    "Exception          Meaning\n",
    "---------------------------------------------------------------------------\n",
    "IndexError           An index was too big for the list where it was used\n",
    "KeyError             A dictionary reference was made with a non-existent key\n",
    "ZeroDivisionError    An attempt was made to divide by zero\n",
    "ValueError           This usually indicates an argument that doesn't make sense. Here\n",
    "                     are a couple of ways you can get a ValueError:\n",
    "                         x = int('apple')\n",
    "                         x = math.sqrt(-5)\n",
    "```"
   ]
  },
  {
   "cell_type": "markdown",
   "metadata": {},
   "source": [
    "Why do we care that there are different kinds of exceptions? Here's an example:"
   ]
  },
  {
   "cell_type": "code",
   "execution_count": null,
   "metadata": {},
   "outputs": [],
   "source": [
    "numerator = input('Enter the first number : ')\n",
    "denominator = input('Enter the second number : ')\n",
    "\n",
    "numerator = float(numerator)\n",
    "denominator = float(denominator)\n",
    "quotient = numerator / denominator\n",
    "\n",
    "print(f'The quotient is {quotient}.')"
   ]
  },
  {
   "cell_type": "markdown",
   "metadata": {},
   "source": [
    "This (simple) code asks for two numbers (let's call them _a_ and _b_), and it prints their quotient, that is, _a_ divided by _b_. What would happen if you entered _apple_ as the first number? The code would try to do `float('apple')` on Line 4, and you would get this error: `ValueError: could not convert string to float: 'apple' `. Now suppose instead that you entered a valid first number, but you entered _zero_ for the second number. What would happen? On Line 6, the code would try to divide by zero, and you would get this error: `ZeroDivisionError: float division by zero`. You might think, _OK, if the user enters bad values, my code can raise an exception, so I need a try/catch._ And you revise your code like this:"
   ]
  },
  {
   "cell_type": "code",
   "execution_count": null,
   "metadata": {},
   "outputs": [],
   "source": [
    "numerator = input('Enter the first number : ')\n",
    "denominator = input('Enter the second number : ')\n",
    "\n",
    "try:\n",
    "    numerator = float(numerator)\n",
    "    denominator = float(denominator)\n",
    "    quotient = numerator / denominator\n",
    "    print(f'The quotient is {quotient}.')\n",
    "except Exception as ex:\n",
    "    print('Something went wrong.')    "
   ]
  },
  {
   "cell_type": "markdown",
   "metadata": {},
   "source": [
    "This is OK, but it's not great. If the user enters _apple_ for one of the numbers, this code prints _Something went wrong._ And what if the user enters a zero for the second number? Again, this code prints _Something went wrong._ Two _different_ things went wrong, but our code isn't differentiating between them. It would be nice to know exactly which error occurred so we can tell the user something more informative than _Something went wrong._ You have probably received this sort of generic, not-helpful error message -- it's infurating, isn't it? We can do better."
   ]
  },
  {
   "cell_type": "markdown",
   "metadata": {},
   "source": [
    "This is where the different kinds of exceptions come in. Instead of generically saying `except Exception as ex`, we can name a specific exception. Here's how that looks:"
   ]
  },
  {
   "cell_type": "code",
   "execution_count": null,
   "metadata": {},
   "outputs": [],
   "source": [
    "numerator = input('Enter the first number : ')\n",
    "denominator = input('Enter the second number : ')\n",
    "\n",
    "try:\n",
    "    numerator = float(numerator)\n",
    "    denominator = float(denominator)\n",
    "    quotient = numerator / denominator\n",
    "    print(f'The quotient is {quotient}.')\n",
    "except ValueError as ex1:\n",
    "    print('We cannot do the division: you entered a value that we cannot convert to a number.')\n",
    "except ZeroDivisionError as ex2:\n",
    "    print('The second number cannot be zero; division by zero is not possible.')"
   ]
  },
  {
   "cell_type": "markdown",
   "metadata": {},
   "source": [
    "Here we have _two_ except clauses, one for each kind of exception our code might raise. If we get a ValueError, the `except ValueError as ex1` clause matches, and we print a message about not being able to convert the input to a number. But if we get a ZeroDivisionError, the `except ZeroDivisionError as ex2` clause matches, and we print a message appropriate to _that_ error.\n",
    "\n",
    "Do you have to do all of this? Technically, no. You can get by with the first version of the code in which there was one _except_ clause that just said `except Exception as ex`. This version doesn't name any specific kinds of exceptions -- it just says _Exception_ -- so _all_ exceptions will match. The problem is this version forces us to write a useless error message because we can't tell which error occurred. It's better coding practice to use multiple _except_ clauses if some lines of code could raise more than one kind of exception."
   ]
  },
  {
   "cell_type": "markdown",
   "metadata": {},
   "source": [
    "## Passing Along the Error Message to the User\n",
    "We haven't spent any time on the variable in the _except_ clause, for example, the _ex1_ in `except ValueError as ex1`. The variable that you name in an _except_ clause will be set to a Python object that describes the exception. You don't have to use this variable, but one handy way to use it is to print it, as follows:\n",
    "```\n",
    "except Exception as exception_variable:\n",
    "    print(f'Python raised an error; here is the message: {exception_variable}')\n",
    "```\n",
    "If you print the exception variable, you'll see the text of Python's error message. That can be useful when you don't quite know what went wrong. Wait -- isn't the point of having different kinds of exceptions to let the coder know exactly what did go wrong? Well, yes, but sometimes two different expressions can raise the same exception:"
   ]
  },
  {
   "cell_type": "code",
   "execution_count": null,
   "metadata": {},
   "outputs": [],
   "source": [
    "import math\n",
    "\n",
    "user_value = input('Enter a value, and I\\'ll tell you it\\'s square root: ')\n",
    "root = math.sqrt(float(user_value))\n",
    "print(f'The square root of your number is {root}.')"
   ]
  },
  {
   "cell_type": "markdown",
   "metadata": {},
   "source": [
    "With this code, if the user enters _aardvark_, you'll get a ValueError from trying to convert _aardvark_ to a float. But if the user enters _-27_, you'll _also_ get a ValueError from trying to take the square root of a negative number. You get the same exception from two different errors. You can't know which thing went wrong, so you can at least print Python's error message and let Python explain:"
   ]
  },
  {
   "cell_type": "code",
   "execution_count": null,
   "metadata": {},
   "outputs": [],
   "source": [
    "import math\n",
    "\n",
    "user_value = input('Enter a value, and I\\'ll tell you it\\'s square root: ')\n",
    "try:\n",
    "    root = math.sqrt(float(user_value))\n",
    "    print(f'The square root of your number is {root}.')\n",
    "except ValueError as ex:\n",
    "    print(f'We could not calculate the square root; here is what went wrong: {ex}')"
   ]
  },
  {
   "cell_type": "markdown",
   "metadata": {},
   "source": [
    "## How do You Know When to Use Try/Except?\n",
    "You may be wondering how to know when you should put code inside a try/except. You should **always** do this when your code has the potential to raise a Python exception. How do you know if your code might raise an exception? This is best learned through experience -- if you _test your code_ using several different scenarios, you will probably cause an exception due to some case that you overlooked. When that happens, add a try/except to cover that case. Over time, you'll start to know which statements have the potential to raise an exception because you will have run into those exceptions -- a lot!\n",
    "\n",
    "**Important Distinction** The try/except mechanism **_only_** works for Python exceptions -- those big errors that Python raises when it cannot continue. You cannot use try/except as if it were an `if` statement. For example, look at this (incorrect) code that asks the user for either a _y_ or _n_ response:"
   ]
  },
  {
   "cell_type": "code",
   "execution_count": null,
   "metadata": {},
   "outputs": [],
   "source": [
    "# This code is wrong -- do not copy it.\n",
    "# It is an example of what you should NOT do\n",
    "\n",
    "response = input('Should I continue? [y/n] ')\n",
    "try:\n",
    "    if response == 'y':\n",
    "        print('OK, I will proceed')\n",
    "    elif response == 'n':\n",
    "        print('OK, I will stop now')\n",
    "except Exception as ex:\n",
    "    print('Please respond with \"y\" or \"n\"')"
   ]
  },
  {
   "cell_type": "markdown",
   "metadata": {},
   "source": [
    "The programmer mistakenly thinks that the _except_ code will run if the user enters anything other than _y_ or _n_ -- WRONG. The _except_ code only runs if Python raises an exception, that is, when there has been a serious Python error. Here, nothing about the code in the _try_ block will raise an exception. Those statements are harmless. We might _wish_ that the user would respond only with _y_ or _n_, and the user _might not_ respond as we wish, but if the user disappoints us, that is a [bummer](https://www.google.com/search?q=define+bummer), not an error. Try/except isn't used for bummers; the _except_ code will **never** run if there is no Python exception. What the code above really needs is an _else_ clause, not a try/except."
   ]
  }
 ],
 "metadata": {
  "kernelspec": {
   "display_name": "Python 3 (ipykernel)",
   "language": "python",
   "name": "python3"
  },
  "language_info": {
   "codemirror_mode": {
    "name": "ipython",
    "version": 3
   },
   "file_extension": ".py",
   "mimetype": "text/x-python",
   "name": "python",
   "nbconvert_exporter": "python",
   "pygments_lexer": "ipython3",
   "version": "3.9.12"
  }
 },
 "nbformat": 4,
 "nbformat_minor": 4
}
