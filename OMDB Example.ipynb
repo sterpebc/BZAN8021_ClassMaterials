{
 "cells": [
  {
   "cell_type": "code",
   "execution_count": null,
   "id": "022aa4b5-63ae-480c-a7f6-4c48e2bc0f66",
   "metadata": {},
   "outputs": [],
   "source": [
    "import requests\n",
    "\n",
    "site = 'http://omdbapi.com/'\n",
    "params = {'t': 'Midnight', 'apikey': 'ZZZZZZZZ'}\n",
    "\n",
    "response_object = requests.get(site, params)\n",
    "response_as_python_object = response_object.json()\n",
    "\n",
    "print(response_as_python_object)\n"
   ]
  }
 ],
 "metadata": {
  "kernelspec": {
   "display_name": "Python 3 (ipykernel)",
   "language": "python",
   "name": "python3"
  },
  "language_info": {
   "codemirror_mode": {
    "name": "ipython",
    "version": 3
   },
   "file_extension": ".py",
   "mimetype": "text/x-python",
   "name": "python",
   "nbconvert_exporter": "python",
   "pygments_lexer": "ipython3",
   "version": "3.11.7"
  }
 },
 "nbformat": 4,
 "nbformat_minor": 5
}
