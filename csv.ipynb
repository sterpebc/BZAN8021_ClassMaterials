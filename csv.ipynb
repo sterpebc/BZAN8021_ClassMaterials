{
 "cells": [
  {
   "cell_type": "markdown",
   "id": "cfb5bf8f-3e2c-419e-8158-c9094f90d3e1",
   "metadata": {},
   "source": [
    "# Working with CSV files in Python"
   ]
  },
  {
   "cell_type": "code",
   "execution_count": null,
   "id": "d8cc01ec-57d8-4359-b05d-935afe70c692",
   "metadata": {},
   "outputs": [],
   "source": [
    "import csv"
   ]
  },
  {
   "cell_type": "markdown",
   "id": "fbd9dd55-e413-49aa-af3f-82c25421b834",
   "metadata": {},
   "source": [
    "## DictReader is Intuitive\n",
    "\n",
    "1. Open the file\n",
    "2. Pass the file object as an argument to csv.DictReader"
   ]
  },
  {
   "cell_type": "code",
   "execution_count": null,
   "id": "dbb5b5db-69b8-4b84-b6f9-3122c609423e",
   "metadata": {},
   "outputs": [],
   "source": [
    "f = open('weight-height.csv', 'r')\n",
    "dr = csv.DictReader(f)"
   ]
  },
  {
   "cell_type": "code",
   "execution_count": null,
   "id": "f830df00-d65a-4512-a9e0-a91bad0e11ef",
   "metadata": {},
   "outputs": [],
   "source": [
    "# Print first 3 rows\n",
    "count = 3\n",
    "for row in dr:\n",
    "    print(row)\n",
    "    count = count - 1\n",
    "    if count == 0:\n",
    "        break"
   ]
  },
  {
   "cell_type": "markdown",
   "id": "bd1fcd8f",
   "metadata": {},
   "source": [
    "## Advantages of DictReader\n",
    "* The CSV heading line is used automatically to name each field\n",
    "* The DictReader can be used in a `for` loop\n",
    "* Each line of the file comes back as a dictionary whose keys come from the file's header line"
   ]
  },
  {
   "cell_type": "code",
   "execution_count": null,
   "id": "d4171cb2-a006-4581-b83b-b462dce1f064",
   "metadata": {
    "jupyter": {
     "source_hidden": true
    }
   },
   "outputs": [],
   "source": [
    "%%html\n",
    "<style>\n",
    "div.cm-content {\n",
    "    font-size: x-large;\n",
    "}\n",
    ".jp-OutputArea-output pre {\n",
    "    font-size: x-large;\n",
    "}\n",
    "</style>"
   ]
  }
 ],
 "metadata": {
  "kernelspec": {
   "display_name": "Python 3 (ipykernel)",
   "language": "python",
   "name": "python3"
  },
  "language_info": {
   "codemirror_mode": {
    "name": "ipython",
    "version": 3
   },
   "file_extension": ".py",
   "mimetype": "text/x-python",
   "name": "python",
   "nbconvert_exporter": "python",
   "pygments_lexer": "ipython3",
   "version": "3.12.1"
  }
 },
 "nbformat": 4,
 "nbformat_minor": 5
}
