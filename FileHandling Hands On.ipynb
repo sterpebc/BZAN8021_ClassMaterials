{
 "cells": [
  {
   "cell_type": "markdown",
   "id": "4f71d177-d731-4700-b8c1-a9f2946bcceb",
   "metadata": {},
   "source": [
    "# File Handling Hands On"
   ]
  },
  {
   "cell_type": "markdown",
   "id": "2c969c9b-0131-477e-952e-5536d365d5ce",
   "metadata": {},
   "source": [
    "You are going to read in a file of data, compute some statistics from the data, and write out a brief report of your findings. Start by downloading the data file _weight-height.csv_ from Canvas."
   ]
  },
  {
   "cell_type": "markdown",
   "id": "fbcb3b59-e51a-4a87-a4dc-c35d2058d452",
   "metadata": {},
   "source": [
    "**For Google Colab Users**\n",
    "\n",
    "* Run the following cell to give this Colab notebook access to your Google Drive.\n",
    "* Then, in Colab, click the File Folder icon along the left edge. This allows you to navigate to your files. Expand _drive_ and you should see _MyDrive_ -- that's your Google drive.\n",
    "* Put the _weight-height.csv_ file somewhere in your Google Drive and note where you put it.\n",
    "* Then, when the time comes later to open this file using Python code, the path to it will be\n",
    "`/content/drive/MyDrive/folder/folder/.../weight-height.csv`."
   ]
  },
  {
   "cell_type": "code",
   "execution_count": null,
   "id": "42bcbd58-e56f-4657-9470-c9e9659cbe5f",
   "metadata": {},
   "outputs": [],
   "source": [
    "# Only run this if you are using Google Colab\n",
    "from google.colab import drive\n",
    "drive.mount('/content/drive')"
   ]
  },
  {
   "cell_type": "markdown",
   "id": "1b5b9c9e-fbfe-4275-b81f-76ddcd380059",
   "metadata": {},
   "source": [
    "**For Everyone**"
   ]
  },
  {
   "cell_type": "markdown",
   "id": "628af8f5-5c82-4f67-9a17-91063fbf2f11",
   "metadata": {},
   "source": [
    "You can't really see what's in the _weight-height.csv_ file if you open it in JupyterLab or Google Colab. Those tools will give you a spreadsheet-like view of the file. (If you are using JupyterLab and not Colab, you can right-click the file and choose Open with --> Editor.)\n",
    "\n",
    "Here's an excerpt from the file to show you what it really contains:\n",
    "\n",
    "```\n",
    "\"Gender\",\"Height\",\"Weight\"\n",
    "\"Male\",73.847017017515,241.893563180437\n",
    "\"Male\",68.7819040458903,162.310472521300\n",
    "\"Male\",74.1101053917849,212.7408555565\n",
    "\"Male\",71.7309784033377,220.042470303077\n",
    "\"Male\",69.8817958611153,206.349800623871\n",
    ". . .\n",
    ". . .   (lots of lines omitted)\n",
    ". . .\n",
    "\"Female\",58.9107320370127,102.088326367840\n",
    "\"Female\",65.2300125077128,141.305822601420\n",
    "\"Female\",63.3690037584139,131.041402692995\n",
    "\"Female\",64.4799974256081,128.171511221632\n",
    "\"Female\",61.7930961472815,129.781407047572\n",
    "```\n",
    "\n",
    "The file is in CSV format, which stands for Comma-Separated Values. You'll see that every line contains three values: gender, height, and weight, with a comma separating each value. The exception is the first line, which just contains headings to describe the lines that follow.\n",
    "\n",
    "Your task is to write a program that:\n",
    "\n",
    "* Prompts the user for the name of the data file\n",
    "* Opens the data file\n",
    "* Reads the data file and calculates the following values for each gender:\n",
    "  * Number of data points\n",
    "  * Average Height\n",
    "  * Average Weight\n",
    "* Writes a new file, _weight-height.txt_, that contains a report of your findings. The format of this file should be as follows:\n",
    "\n",
    "```\n",
    "Female\n",
    "\n",
    "Number of data points: n\n",
    "Average Height: hhh\n",
    "Average Weight: www\n",
    "\n",
    "Male\n",
    "\n",
    "Number of data points: n\n",
    "Average Height: hhh\n",
    "Average Weight: www\n",
    "```\n",
    "* Closes both files (the one you read and the one you wrote)"
   ]
  },
  {
   "cell_type": "markdown",
   "id": "2e65b31a-af47-4d32-a05e-e6612dafe3fd",
   "metadata": {},
   "source": [
    "## The Rules\n",
    "* You may assume that the data file contains only gender, height, and weight in the order shown in the file. Your code does not have to work with a different file that might contain different values in a different order.\n",
    "* You may **not** assume anything about how many records are in the file, or how many records there are for males and females. If I gave you a different file with a different number of male records and a different number of female records, your code would still have to work correctly.\n",
    "* You may not alter the data file in any way, except that you may rename it with a shorter name if you like.\n",
    "* You may **not** use pandas."
   ]
  },
  {
   "cell_type": "code",
   "execution_count": null,
   "id": "3e95fd2f-45d0-4079-935c-7d49a977bb59",
   "metadata": {},
   "outputs": [],
   "source": [
    "# Put your code in this cell"
   ]
  }
 ],
 "metadata": {
  "kernelspec": {
   "display_name": "Python 3 (ipykernel)",
   "language": "python",
   "name": "python3"
  },
  "language_info": {
   "codemirror_mode": {
    "name": "ipython",
    "version": 3
   },
   "file_extension": ".py",
   "mimetype": "text/x-python",
   "name": "python",
   "nbconvert_exporter": "python",
   "pygments_lexer": "ipython3",
   "version": "3.9.12"
  }
 },
 "nbformat": 4,
 "nbformat_minor": 5
}
