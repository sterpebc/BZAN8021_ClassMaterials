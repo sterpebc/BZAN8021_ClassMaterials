{
 "cells": [
  {
   "cell_type": "code",
   "execution_count": 25,
   "id": "42e7116c-ed13-46cc-a844-5b594b1da007",
   "metadata": {},
   "outputs": [],
   "source": [
    "def streaks(l):\n",
    "    streak_lengths = []\n",
    "    current_streak_length = 1\n",
    "    last_item = l[0]\n",
    "\n",
    "    for item in l[1:]:\n",
    "        if item == last_item:\n",
    "            current_streak_length = current_streak_length + 1\n",
    "        else:\n",
    "            streak_lengths.append(current_streak_length)\n",
    "            current_streak_length = 1\n",
    "        last_item = item\n",
    "\n",
    "    streak_lengths.append(current_streak_length)\n",
    "    print(streak_lengths)\n",
    "    return max(streak_lengths)"
   ]
  },
  {
   "cell_type": "code",
   "execution_count": 26,
   "id": "9bf7af08-44b4-48c7-9359-735202527063",
   "metadata": {},
   "outputs": [
    {
     "name": "stdout",
     "output_type": "stream",
     "text": [
      "[1, 3, 1, 1, 4, 3, 1, 4, 1, 1, 1]\n",
      "4\n"
     ]
    }
   ],
   "source": [
    "l1 = [1, 2, 2, 2, 5, 0, 7, 7, 7, 7, 2, 2, 2, 3, 0, 0, 0, 0, 9, 8, 9]\n",
    "print(streaks(l1))"
   ]
  },
  {
   "cell_type": "code",
   "execution_count": null,
   "id": "77f89253-e759-466c-949d-849deb4f2c11",
   "metadata": {},
   "outputs": [],
   "source": []
  }
 ],
 "metadata": {
  "kernelspec": {
   "display_name": "Python 3 (ipykernel)",
   "language": "python",
   "name": "python3"
  },
  "language_info": {
   "codemirror_mode": {
    "name": "ipython",
    "version": 3
   },
   "file_extension": ".py",
   "mimetype": "text/x-python",
   "name": "python",
   "nbconvert_exporter": "python",
   "pygments_lexer": "ipython3",
   "version": "3.10.10"
  }
 },
 "nbformat": 4,
 "nbformat_minor": 5
}
