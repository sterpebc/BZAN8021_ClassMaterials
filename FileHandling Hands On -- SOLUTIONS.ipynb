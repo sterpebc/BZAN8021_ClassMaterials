{
 "cells": [
  {
   "cell_type": "markdown",
   "id": "4f71d177-d731-4700-b8c1-a9f2946bcceb",
   "metadata": {},
   "source": [
    "# File Handling Hands On"
   ]
  },
  {
   "cell_type": "markdown",
   "id": "2c969c9b-0131-477e-952e-5536d365d5ce",
   "metadata": {},
   "source": [
    "You are going to read in a file of data, compute some statistics from the data, and write out a brief report of your findings. Start by downloading the data file _weight-height.csv_ from Canvas."
   ]
  },
  {
   "cell_type": "markdown",
   "id": "fbcb3b59-e51a-4a87-a4dc-c35d2058d452",
   "metadata": {},
   "source": [
    "**For Google Colab Users**\n",
    "\n",
    "* Run the following cell to give this Colab notebook access to your Google Drive.\n",
    "* Then, in Colab, click the File Folder icon along the left edge. This allows you to navigate to your files. Expand _drive_ and you should see _MyDrive_ -- that's your Google drive.\n",
    "* Put the _weight-height.csv_ file somewhere in your Google Drive and note where you put it.\n",
    "* Then, when the time comes later to open this file using Python code, the path to it will be\n",
    "`/content/drive/MyDrive/folder/folder/.../weight-height.csv`."
   ]
  },
  {
   "cell_type": "code",
   "execution_count": null,
   "id": "42bcbd58-e56f-4657-9470-c9e9659cbe5f",
   "metadata": {},
   "outputs": [],
   "source": [
    "# Only run this if you are using Google Colab\n",
    "from google.colab import drive\n",
    "drive.mount('/content/drive')"
   ]
  },
  {
   "cell_type": "markdown",
   "id": "1b5b9c9e-fbfe-4275-b81f-76ddcd380059",
   "metadata": {},
   "source": [
    "**For Everyone**"
   ]
  },
  {
   "cell_type": "markdown",
   "id": "628af8f5-5c82-4f67-9a17-91063fbf2f11",
   "metadata": {},
   "source": [
    "You can't really see what's in the _weight-height.csv_ file if you open it in JupyterLab or Google Colab. Those tools will give you a spreadsheet-like view of the file. (If you are using JupyterLab and not Colab, you can right-click the file and choose Open with --> Editor.)\n",
    "\n",
    "Here's an excerpt from the file to show you what it really contains:\n",
    "\n",
    "```\n",
    "\"Gender\",\"Height\",\"Weight\"\n",
    "\"Male\",73.847017017515,241.893563180437\n",
    "\"Male\",68.7819040458903,162.310472521300\n",
    "\"Male\",74.1101053917849,212.7408555565\n",
    "\"Male\",71.7309784033377,220.042470303077\n",
    "\"Male\",69.8817958611153,206.349800623871\n",
    ". . .\n",
    ". . .   (lots of lines omitted)\n",
    ". . .\n",
    "\"Female\",58.9107320370127,102.088326367840\n",
    "\"Female\",65.2300125077128,141.305822601420\n",
    "\"Female\",63.3690037584139,131.041402692995\n",
    "\"Female\",64.4799974256081,128.171511221632\n",
    "\"Female\",61.7930961472815,129.781407047572\n",
    "```\n",
    "\n",
    "The file is in CSV format, which stands for Comma-Separated Values. You'll see that every line contains three values: gender, height, and weight, with a comma separating each value. The exception is the first line, which just contains headings to describe the lines that follow.\n",
    "\n",
    "Your task is to write a program that:\n",
    "\n",
    "* Prompts the user for the name of the data file\n",
    "* Opens the data file\n",
    "* Reads the data file and calculates the following values for each gender:\n",
    "  * Number of data points\n",
    "  * Average Height\n",
    "  * Average Weight\n",
    "* Writes a new file, _weight-height.txt_, that contains a report of your findings. The format of this file should be as follows:\n",
    "\n",
    "```\n",
    "Female\n",
    "\n",
    "Number of data points: n\n",
    "Average Height: hhh\n",
    "Average Weight: www\n",
    "\n",
    "Male\n",
    "\n",
    "Number of data points: n\n",
    "Average Height: hhh\n",
    "Average Weight: www\n",
    "```\n",
    "* Closes both files (the one you read and the one you wrote)"
   ]
  },
  {
   "cell_type": "markdown",
   "id": "2e65b31a-af47-4d32-a05e-e6612dafe3fd",
   "metadata": {},
   "source": [
    "## The Rules\n",
    "* You may assume that the data file contains only gender, height, and weight in the order shown in the file. Your code does not have to work with a different file that might contain different values in a different order.\n",
    "* You may **not** assume anything about how many records are in the file, or how many records there are for males and females. If I gave you a different file with a different number of male records and a different number of female records, your code would still have to work correctly.\n",
    "* You may not alter the data file in any way, except that you may rename it with a shorter name if you like.\n",
    "* You may **not** use pandas."
   ]
  },
  {
   "cell_type": "code",
   "execution_count": 2,
   "id": "3e95fd2f-45d0-4079-935c-7d49a977bb59",
   "metadata": {},
   "outputs": [],
   "source": [
    "# Here is \"pseudocode\" for the game plan\n",
    "\n",
    "# Ask the user for the name of a data file\n",
    "# Open that data file\n",
    "\n",
    "# Establish running totals for height and weight for both male and female\n",
    "# Establish counters for total number of males and females\n",
    "\n",
    "# Read and discard the first line of the file (no useful data on that line)\n",
    "\n",
    "# For every remaining line in the data file\n",
    "#   Get the gender, height, and weight from the line\n",
    "#   If male...\n",
    "#     Add height to total male height\n",
    "#     Add weight to the total male weight\n",
    "#     Add 1 to the total male count\n",
    "#   Otherwise...\n",
    "#     Do all the same things for the female totals and counts\n",
    "#\n",
    "# After all lines have been read, calculate the averages\n",
    "# Open the output file to write on it\n",
    "# Write the output\n",
    "# Close the output file\n",
    "\n",
    "male_total_height = 0\n",
    "male_total_weight = 0\n",
    "female_total_height = 0\n",
    "female_total_weight = 0\n",
    "male_count = 0\n",
    "female_count = 0\n",
    "\n",
    "file_name = input('Enter the name of the file: ')\n",
    "f = open(file_name)\n",
    "f.readline()\n",
    "\n",
    "for line in f:\n",
    "    line = line.rstrip('\\n')\n",
    "    line_parts = line.split(',')  # line_parts will be a list of strings\n",
    "    gender = line_parts[0]\n",
    "    height = float(line_parts[1])\n",
    "    weight = float(line_parts[2])\n",
    "\n",
    "    if gender == '\"Male\"':\n",
    "        male_total_height = male_total_height + height  # update running sum\n",
    "        male_total_weight = male_total_weight + weight\n",
    "        male_count = male_count + 1\n",
    "    else:\n",
    "        female_total_height = female_total_height + height  # update running sum\n",
    "        female_total_weight = female_total_weight + weight\n",
    "        female_count = female_count + 1\n",
    "\n",
    "# Calculate Averages\n",
    "average_male_height = male_total_height / male_count\n",
    "average_male_weight = male_total_weight / male_count\n",
    "average_female_height = female_total_height / female_count\n",
    "average_female_weight = female_total_weight / female_count\n",
    "\n",
    "output_file = open('weight-height.txt', 'w')\n",
    "\n",
    "output_text = f'''Female\n",
    "\n",
    "Number of data points {female_count}\n",
    "Average Height: {average_female_height}\n",
    "Average Weight: {average_female_weight}\n",
    "\n",
    "Male\n",
    "\n",
    "Number of data points {male_count}\n",
    "Average Height: {average_male_height}\n",
    "Average Weight: {average_male_weight}\n",
    "'''\n",
    "\n",
    "output_file.write(output_text)\n",
    "output_file.close()\n"
   ]
  }
 ],
 "metadata": {
  "kernelspec": {
   "display_name": "Python 3 (ipykernel)",
   "language": "python",
   "name": "python3"
  },
  "language_info": {
   "codemirror_mode": {
    "name": "ipython",
    "version": 3
   },
   "file_extension": ".py",
   "mimetype": "text/x-python",
   "name": "python",
   "nbconvert_exporter": "python",
   "pygments_lexer": "ipython3",
   "version": "3.11.7"
  }
 },
 "nbformat": 4,
 "nbformat_minor": 5
}
