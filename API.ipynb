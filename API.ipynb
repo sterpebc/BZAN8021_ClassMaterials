{
 "cells": [
  {
   "cell_type": "markdown",
   "metadata": {},
   "source": [
    "# Hands On: Internet APIs with Python"
   ]
  },
  {
   "cell_type": "markdown",
   "metadata": {},
   "source": [
    "In this hands on, you'll write code to retrieve data from [Finnhub.io](https://finnhub.io), a site that serves up financial data. You will gain some experience writing Python that is Internet-enabled, and you'll get to work a bit with JSON."
   ]
  },
  {
   "cell_type": "markdown",
   "metadata": {},
   "source": [
    "## Step 1 -- Get a Finnhub.io API Key\n",
    "We'll get our data from Finnhub.io. Access is free, but you first have to get a _key_ that will let you use their API. You then include your key in every request you make.\n",
    "\n",
    "1. Go to [https://finnhub.io](https://finnhub.io)\n",
    "1. Click on `Get free API Key`. You will be asked to create a (free) account.\n",
    "1. After you create your account, the page you land on will show your API Key."
   ]
  },
  {
   "cell_type": "markdown",
   "metadata": {},
   "source": [
    "## Step 2 -- Try Finnhub.io Access Using Your Browser\n",
    "Before writing any code to access the Finnhub API, you can try it \"manually\" using your browser. Paste the following into your browser's address line, but first change **ZZZZZZZ** to your API Key. You can also substitute another ticker symbol for _AMZN_.\n",
    "```\n",
    "https://finnhub.io/api/v1/quote?token=ZZZZZZZ&symbol=AMZN\n",
    "```"
   ]
  },
  {
   "cell_type": "markdown",
   "metadata": {},
   "source": [
    "## Summary of What You Will Code\n",
    "\n",
    "You will code two functions. One function, `company_search`, will accept as a parameter the name of a company (or a partial name). It will then use Finnhub.io's API to find a list of matching companies, and it will return a list of dictionaries containing each company's name and ticker symbol. The other function, `ticker_quote`, will accept two parameters, a list of dictionaries like the one you returned from company_search, and an integer. It will use the integer as an index into the list of dictionaries and will obtain a stock quote for the company at that index in the list."
   ]
  },
  {
   "cell_type": "markdown",
   "metadata": {},
   "source": [
    "## Step 3 -- Write the `company_search` Function\n",
    "For this step, refer to the Finnhub documentation for the [Stock Symbol](https://finnhub.io/docs/api#stock-symbols) API. Read it and notice that this API does not give you information about a given ticker symbol. It's different from the example you did a minute ago. This API gives you a list of every stock that Finnhub knows about on a given stock exchange. The parameter you supply on the API call is, therefore, an abbreviation for a stock exchange, e.g., US.\n",
    "\n",
    "The link to the documentation above will tell you what needs to be pasted after the `/v1`: it's not `quote` that you added for the API call in Step 2.\n",
    "\n",
    "Define a function named `company_search` that takes one argument, the name (or partial name) of a company. Your function should do the following:\n",
    "* Use the Stock Symbol API to get a list of all companies on the US exchange. This is not retrieving info on a particular stock. It is retrieving a list of all the stocks that Finnhub knows about. (Refer to class materials to refresh your memory on what to import and what code pattern to use.)\n",
    "* Read the response from Finnhub as a string and convert the string to a Python object.\n",
    "* Use code to find in the Python object only those companies whose name contains the string that is the argument to your function. Do this in a case-insensitive way. Look at the API documentation to see where in Finnhub's response you can find the company name.\n",
    "* Return a list of dictionaries. In each dictionary, the keys should be \"name\" and \"ticker\". The value for the \"name\" key should be the company's name, and the value for the \"ticker\" key should be the company's ticker symbol (in Finnhub's response, this is \"displaySymbol\"). Both values are strings.\n",
    "\n",
    "For example, if the argument to your function is \"alphabet\", your function should return this:\n",
    "```\n",
    "[\n",
    "  {'name': 'ALPHABET INC-CL C', 'ticker': 'GOOG'},\n",
    "  {'name': 'ALPHABET INC-CL A', 'ticker': 'GOOGL'}\n",
    "]\n",
    "```\n",
    "\n",
    "**Hint 1:** You aren't looking for an exact match for the company name. In the example above the argument to the function was \"alphabet\"; notice how each company in the returned list has alphabet in the company name but neither is a match for \"alphabet\".\n",
    "\n",
    "**Hint 2:** Remember that the `in` operator works with strings, too. So...\n",
    "```\n",
    "'bob' in 'thingamabob'   # Evaluates to True\n",
    "```\n",
    "\n",
    "* After the code for your function, add some code to call your function and see if it returns what you expect. Here's a suggestion for some testing code:\n",
    "```\n",
    "result = company_search('put_a_partial_company_name_here')\n",
    "for item in result:\n",
    "  print(item)\n",
    "```"
   ]
  },
  {
   "cell_type": "markdown",
   "metadata": {},
   "source": [
    "## Step 4 -- Write the `ticker_quote` Function\n",
    "\n",
    "Define a function named `ticker_quote` that takes two arguments, a list of dictionaries like the one you returned from your `company_search` function, and an integer. The integer will be the index of one of the elements in the first argument. You may assume that the second argument is a valid index into the first argument. Your function should do the following:\n",
    "* Use the second argument to index into the first argument and obtain the dictionary at that index.\n",
    "* For the company represented by this dictionary, use the [Stock Quote](https://finnhub.io/docs/api#quote) API to get a quote for that company's stock.\n",
    "* Return a dictionary containing three keys, \"open\", \"current\", and \"movement\". The value of the \"open\" key should be the stock's opening price, as a float. The value of the \"current\" key should be the stock's current price, as a float. The value of the \"movement\" key should be one of the following strings:\n",
    "  * \"UP\" if the current price is greater than the opening price\n",
    "  * \"DOWN\" if the current price is lower than the opening price\n",
    "  * \"FLAT\" if the current price is equal to the opening price\n",
    "\n",
    "For example, if the stock's current price is lower than its opening price, you would return a dictionary like this:\n",
    "```\n",
    "{\n",
    "  'open': opening_price, 'current': current_price, 'movement': 'DOWN'\n",
    "}\n",
    "```"
   ]
  },
  {
   "cell_type": "markdown",
   "metadata": {},
   "source": [
    "## Step 5 -- Put it All Together\n",
    "\n",
    "Now let's write some code to call your functions and give the user an interactive experience. Write some new code that does the following:\n",
    "* Prompt the user to enter all or part of a company name\n",
    "* Call `company_search` using the input provided by the user\n",
    "* Print the results of `company_search` on screen as a numbered list, and prompt the user to enter one of those numbers. For example, if `company_search` returned this...\n",
    "\n",
    "```\n",
    "[\n",
    "  {'name': 'ALPHABET INC-CL C', 'ticker': 'GOOG'},\n",
    "  {'name': 'ALPHABET INC-CL A', 'ticker': 'GOOGL'}\n",
    "]\n",
    "```\n",
    "\n",
    "...you should print something like this for the user:\n",
    "```\n",
    "1. ALPHABET INC-CL C (GOOG)\n",
    "2. ALPHABET INC-CL A (GOOGL)\n",
    "\n",
    "Enter a number:\n",
    "```\n",
    "\n",
    "* Using the number entered by the user, obtain a stock quote for that company by calling your `ticker_quote` function. Print what `ticker_quote` returns for the user in a nicely formatted way.\n"
   ]
  },
  {
   "cell_type": "code",
   "execution_count": null,
   "metadata": {},
   "outputs": [],
   "source": [
    "# All your code goes in this cell\n"
   ]
  }
 ],
 "metadata": {
  "kernelspec": {
   "display_name": "Python 3 (ipykernel)",
   "language": "python",
   "name": "python3"
  },
  "language_info": {
   "codemirror_mode": {
    "name": "ipython",
    "version": 3
   },
   "file_extension": ".py",
   "mimetype": "text/x-python",
   "name": "python",
   "nbconvert_exporter": "python",
   "pygments_lexer": "ipython3",
   "version": "3.12.1"
  }
 },
 "nbformat": 4,
 "nbformat_minor": 4
}
