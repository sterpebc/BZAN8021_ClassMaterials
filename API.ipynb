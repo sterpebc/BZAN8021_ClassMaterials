{
 "cells": [
  {
   "cell_type": "markdown",
   "metadata": {},
   "source": [
    "# Hands On: Internet APIs with Python"
   ]
  },
  {
   "cell_type": "markdown",
   "metadata": {},
   "source": [
    "In this hands on, you'll write code to retrieve data from [Finnhub.io](https://finnhub.io), a site that serves up financial data. You will gain some experience writing Python that is Internet-enabled, and you'll get to work a bit with JSON."
   ]
  },
  {
   "cell_type": "markdown",
   "metadata": {},
   "source": [
    "## Step 1 -- Get a Finnhub.io API Key\n",
    "We'll get our data from Finnhub.io. Access is free, but you first have to get a _key_ that will let you use their API. You then include your key in every request you make.\n",
    "\n",
    "1. Go to [https://finnhub.io](https://finnhub.io)\n",
    "1. Click on `Get free API Key`. You will be asked to create a (free) account.\n",
    "1. After you create your account, the page you land on will show your API Key."
   ]
  },
  {
   "cell_type": "markdown",
   "metadata": {},
   "source": [
    "## Step 2 -- Try Finnhub.io Access Using Your Browser\n",
    "Before writing any code to access the Finnhub API, you can try it \"manually\" using your browser. Paste the following into your browser's address line, but first change **ZZZZZZZ** to your API Key. You can also substitute another ticker symbol for _AMZN_.\n",
    "```\n",
    "https://finnhub.io/api/v1/quote?token=ZZZZZZZ&symbol=AMZN\n",
    "```"
   ]
  },
  {
   "cell_type": "markdown",
   "metadata": {},
   "source": [
    "## Step 3 -- Write Code\n",
    "In this step, you will use the [Stock Quote API](https://finnhub.io/docs/api#quote) to get a stock quote for a company. Here's what your code needs to do:\n",
    "* Prompt the user to enter a ticker symbol; save their input in a variable.\n",
    "* Use the code pattern from the OMDB Example to contact FinnHub using _requests.get_, convert the response to a Python object, and print the Python object"
   ]
  },
  {
   "cell_type": "code",
   "execution_count": null,
   "metadata": {},
   "outputs": [],
   "source": []
  },
  {
   "cell_type": "markdown",
   "metadata": {},
   "source": [
    "## Step 4 -- If You Want to Do More\n",
    "When you convert the FinnHub response to a Python object, you get something called a _dictionary_. When Python prints one, it looks like this:\n",
    "```\n",
    "{\"c\":165.6723, \"h\":168.4, \"l\":153.49, \"o\":154.13, \"pc\":150.25, \"t\":1587663524}\n",
    "```"
   ]
  },
  {
   "cell_type": "markdown",
   "metadata": {},
   "source": [
    "A dictionary is a collection of key:value pairs. In the dictionary above, the keys are _c_, _h_, _l_, _o_, _pc_, and _t_. Each key has a value -- it's whatever follows the colon (:)."
   ]
  },
  {
   "cell_type": "markdown",
   "metadata": {},
   "source": [
    "Let's put the dictionary above into a variable named _d_."
   ]
  },
  {
   "cell_type": "code",
   "execution_count": null,
   "metadata": {},
   "outputs": [],
   "source": [
    "d = {\"c\":165.6723,\"h\":168.4,\"l\":153.49,\"o\":154.13,\"pc\":150.25,\"t\":1587663524}"
   ]
  },
  {
   "cell_type": "markdown",
   "metadata": {},
   "source": [
    "Run the code below and see if you can figure out what it's doing..."
   ]
  },
  {
   "cell_type": "code",
   "execution_count": null,
   "metadata": {},
   "outputs": [],
   "source": [
    "d['h']"
   ]
  },
  {
   "cell_type": "code",
   "execution_count": null,
   "metadata": {},
   "outputs": [],
   "source": [
    "d['c']"
   ]
  },
  {
   "cell_type": "code",
   "execution_count": null,
   "metadata": {},
   "outputs": [],
   "source": [
    "k = 'pc'\n",
    "d[k]"
   ]
  },
  {
   "cell_type": "markdown",
   "metadata": {},
   "source": [
    "Now run this code and see if you can figure out what it's doing..."
   ]
  },
  {
   "cell_type": "code",
   "execution_count": null,
   "metadata": {},
   "outputs": [],
   "source": [
    "for key in d:\n",
    "    print(f'{key}: {d[key]}')"
   ]
  },
  {
   "cell_type": "markdown",
   "metadata": {},
   "source": [
    "See if you apply what you just learned to enhance your API code to print the dictionary keys and values formatted in a more user-friendly way."
   ]
  }
 ],
 "metadata": {
  "kernelspec": {
   "display_name": "Python 3 (ipykernel)",
   "language": "python",
   "name": "python3"
  },
  "language_info": {
   "codemirror_mode": {
    "name": "ipython",
    "version": 3
   },
   "file_extension": ".py",
   "mimetype": "text/x-python",
   "name": "python",
   "nbconvert_exporter": "python",
   "pygments_lexer": "ipython3",
   "version": "3.12.1"
  }
 },
 "nbformat": 4,
 "nbformat_minor": 4
}
