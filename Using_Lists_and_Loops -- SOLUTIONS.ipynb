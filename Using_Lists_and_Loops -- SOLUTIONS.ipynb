{
 "cells": [
  {
   "cell_type": "markdown",
   "id": "d3afb078-ef49-43b1-bd02-21f04005db86",
   "metadata": {},
   "source": [
    "# Ways to Use Lists and Loops -- SOLUTIONS"
   ]
  },
  {
   "cell_type": "markdown",
   "id": "f52d1cd0-38cf-4863-a0fe-6f92b37afa98",
   "metadata": {},
   "source": [
    "## The _running count_ pattern"
   ]
  },
  {
   "cell_type": "code",
   "execution_count": null,
   "id": "84da7824-a837-47c5-9687-02e79652e09d",
   "metadata": {},
   "outputs": [],
   "source": [
    "# Count the four-letter words\n",
    "words = ['apple', 'Python', 'bank', 'coffee', 'cash', 'luck']"
   ]
  },
  {
   "cell_type": "code",
   "execution_count": null,
   "id": "c8a95f75-2814-4fa8-977d-84bf06898d31",
   "metadata": {
    "tags": []
   },
   "outputs": [],
   "source": [
    "count = 0\n",
    "\n",
    "for word in words:\n",
    "    if len(word) == 4:\n",
    "        count = count + 1\n",
    "        \n",
    "print(f'Number of 4-letter words: {count}')"
   ]
  },
  {
   "cell_type": "markdown",
   "id": "67526bec-5b9d-4daf-a2b7-f3859f1d54db",
   "metadata": {},
   "source": [
    "## The _running sum_ pattern"
   ]
  },
  {
   "cell_type": "code",
   "execution_count": null,
   "id": "65f2db69-0fcd-4995-aac1-10dd8c5cf991",
   "metadata": {},
   "outputs": [],
   "source": [
    "# Sum the scores that aren't N/A\n",
    "scores = [89, 92, 'N/A', 78, 85, 91, 84, 'N/A', 90]\n",
    "\n",
    "the_sum = 0\n",
    "\n",
    "for score in scores:  # loop variable\n",
    "    if score != 'N/A':\n",
    "        the_sum = the_sum + score\n",
    "print(f'The final sum is {the_sum}')"
   ]
  },
  {
   "cell_type": "code",
   "execution_count": null,
   "id": "caeec0b4-a3c5-4f62-a6b2-a5fe079cf9d1",
   "metadata": {
    "tags": []
   },
   "outputs": [],
   "source": [
    "sum_scores = 0\n",
    "\n",
    "for score in scores:\n",
    "    if score != 'N/A':\n",
    "        sum_scores = sum_scores + score\n",
    "        \n",
    "print(f'The total is {sum_scores}')"
   ]
  },
  {
   "cell_type": "markdown",
   "id": "28330519-d9b3-4361-88a2-391d90959017",
   "metadata": {},
   "source": [
    "## Combining the patterns"
   ]
  },
  {
   "cell_type": "code",
   "execution_count": null,
   "id": "c65a34dd-de7d-4728-93fd-18b2072e285f",
   "metadata": {},
   "outputs": [],
   "source": [
    "# Average the scores that aren't N/A\n",
    "\n",
    "# Your code goes here\n",
    "scores = [89, 92, 'N/A', 78, 85, 91, 84, 'N/A', 90]\n",
    "\n",
    "count = 0\n",
    "the_sum = 0\n",
    "\n",
    "for value in scores:\n",
    "    if value != 'N/A':\n",
    "        count = count + 1\n",
    "        the_sum = the_sum + value\n",
    "\n",
    "average = the_sum / count\n",
    "print(f'The average is {average}')"
   ]
  },
  {
   "cell_type": "code",
   "execution_count": null,
   "id": "bbc6d25f-ee00-42c7-8d8f-5207ae6cc011",
   "metadata": {
    "tags": []
   },
   "outputs": [],
   "source": [
    "# Average the scores that aren't N/A\n",
    "\n",
    "scores = [89, 92, 'N/A', 78, 85, 91, 84, 'N/A', 90]\n",
    "sum_scores = 0\n",
    "count = 0\n",
    "\n",
    "for score in scores:\n",
    "    if score != 'N/A':\n",
    "        sum_scores = sum_scores + score\n",
    "        count = count + 1\n",
    "\n",
    "average = sum_scores / count\n",
    "print(f'The average of {count} scores is {average}')"
   ]
  },
  {
   "cell_type": "code",
   "execution_count": null,
   "id": "99f51997-beb0-4142-8771-42343de0e4a2",
   "metadata": {
    "tags": []
   },
   "outputs": [],
   "source": [
    "# Easy way to do an average if you don't have to skip values\n",
    "scores = [89, 92, 78, 85, 91, 84, 90]\n",
    "\n",
    "numerator = sum(scores)\n",
    "denominator = len(scores)\n",
    "\n",
    "average = numerator / denominator\n",
    "print(f'The average score is {average}')"
   ]
  },
  {
   "cell_type": "markdown",
   "id": "f74c0385-6151-4a73-8eb4-a997aea0dad7",
   "metadata": {},
   "source": [
    "## Doing Something _n_ Times"
   ]
  },
  {
   "cell_type": "code",
   "execution_count": null,
   "id": "c3d2595e-012a-4344-9a54-879e8fcdb144",
   "metadata": {},
   "outputs": [],
   "source": [
    "# Print 5 random integers between 1 and 10\n",
    "from random import randint\n",
    "\n",
    "low = 1\n",
    "high = 10\n",
    "number_to_print = 5\n",
    "\n",
    "while number_to_print > 0:\n",
    "    r = randint(low, high)\n",
    "    print(r)\n",
    "    number_to_print = number_to_print - 1"
   ]
  },
  {
   "cell_type": "code",
   "execution_count": null,
   "id": "77ea2330-4f78-45a1-ab3f-8c60c4880179",
   "metadata": {},
   "outputs": [],
   "source": [
    "attempts = 0\n",
    "password = \"shhhh!!!\"\n",
    "success = False\n",
    "MAX_ATTEMPTS = 3\n",
    "\n",
    "while attempts < MAX_ATTEMPTS:\n",
    "    response = input('Enter password: ')\n",
    "    attempts = attempts + 1\n",
    "    if response == password:\n",
    "        success = True\n",
    "        break\n",
    "\n",
    "if success == True:\n",
    "    print('Welcome!')\n",
    "else:\n",
    "    print('No more attempts')"
   ]
  },
  {
   "cell_type": "markdown",
   "id": "ca97e063-db05-4752-a395-a22cbfc1bbde",
   "metadata": {},
   "source": [
    "## Counting Results"
   ]
  },
  {
   "cell_type": "code",
   "execution_count": null,
   "id": "a43149bc-ad2d-4ee2-a7d7-d76d7748170d",
   "metadata": {
    "tags": []
   },
   "outputs": [],
   "source": [
    "# Generate 1000 random integers between 1 and 10\n",
    "# and count how many are 7 or higher.\n",
    "\n",
    "from random import randint\n",
    "\n",
    "low = 1\n",
    "high = 10\n",
    "number_to_test = 1000\n",
    "count = 0\n",
    "threshold = 7\n",
    "\n",
    "while number_to_test > 0:\n",
    "    r = randint(low, high)\n",
    "    if r >= threshold:\n",
    "        count = count + 1\n",
    "    number_to_test = number_to_test - 1\n",
    "print(f'{count} numbers were {threshold} or higher.')"
   ]
  },
  {
   "cell_type": "markdown",
   "id": "2e43f885-3305-4136-8f1f-c2ed4cce9576",
   "metadata": {},
   "source": [
    "## Accumulating Results"
   ]
  },
  {
   "cell_type": "code",
   "execution_count": null,
   "id": "fb88dadc-3960-46cb-9d93-3a558c6243c5",
   "metadata": {},
   "outputs": [],
   "source": [
    "# What are the four-letter words?\n",
    "words = ['apple', 'Python', 'bank', 'coffee', 'cash', 'luck']"
   ]
  },
  {
   "cell_type": "code",
   "execution_count": null,
   "id": "4a1ff0f3-064e-445b-aec6-e54204fe356f",
   "metadata": {
    "tags": []
   },
   "outputs": [],
   "source": [
    "words_we_want = []\n",
    "\n",
    "for word in words:\n",
    "    if len(word) == 4:\n",
    "        words_we_want.append(word)\n",
    "\n",
    "print(f'The words we want are {words_we_want}')"
   ]
  },
  {
   "cell_type": "code",
   "execution_count": null,
   "id": "43c5f034-046f-4c75-bd04-bae445d71585",
   "metadata": {
    "tags": []
   },
   "outputs": [],
   "source": [
    "# We can print the list in a more reader-friendly format\n",
    "print('The words we want are...')\n",
    "for w in words_we_want:\n",
    "    print(f'  {w}')"
   ]
  },
  {
   "cell_type": "markdown",
   "id": "1eddee34-33a4-4929-8210-e5eb01177664",
   "metadata": {},
   "source": [
    "## Accumulating Results"
   ]
  },
  {
   "cell_type": "code",
   "execution_count": null,
   "id": "152e60e7-9f11-4c3c-8e6f-79f0866fcd15",
   "metadata": {},
   "outputs": [],
   "source": [
    "# Build a list of 25 random integers between 1 and 5\n",
    "from random import randint\n",
    "\n",
    "# Your code goes here\n",
    "my_list = []\n",
    "count = 0\n",
    "\n",
    "while count < 25:\n",
    "    n = randint(1, 5)\n",
    "    my_list.append(n)\n",
    "    count = count + 1\n",
    "\n",
    "print(my_list)"
   ]
  },
  {
   "cell_type": "markdown",
   "id": "c7e9c6b6-cde4-4714-85e9-2c8c0e711453",
   "metadata": {},
   "source": [
    "## Add to your code: calculate the average of the 25 numbers"
   ]
  },
  {
   "cell_type": "code",
   "execution_count": null,
   "id": "1b5f5130-2ff8-4c2a-8ce4-aabe38af92ba",
   "metadata": {},
   "outputs": [],
   "source": [
    "# Build a list of 25 random integers between 1 and 5\n",
    "from random import randint\n",
    "\n",
    "# Your code goes here\n",
    "my_list = []\n",
    "count = 0\n",
    "\n",
    "while count < 25:\n",
    "    n = randint(1, 5)\n",
    "    my_list.append(n)\n",
    "    count = count + 1\n",
    "\n",
    "# Now get the average\n",
    "numerator = sum(my_list)\n",
    "denominator = count\n",
    "average = numerator / denominator\n",
    "print(f'The average is {average}')"
   ]
  },
  {
   "cell_type": "markdown",
   "id": "ce414a4e-2b10-49dd-94f7-391eee5e0d8e",
   "metadata": {},
   "source": [
    "## Add to your code: build a list of the numbers that are above the average"
   ]
  },
  {
   "cell_type": "code",
   "execution_count": null,
   "id": "6f605a1a-cf9a-4041-992e-956d6b60ec3a",
   "metadata": {
    "tags": []
   },
   "outputs": [],
   "source": [
    "# Build a list of 25 random integers between 1 and 5\n",
    "from random import randint\n",
    "\n",
    "# Your code goes here\n",
    "my_list = []\n",
    "count = 0\n",
    "\n",
    "while count < 25:\n",
    "    n = randint(1, 5)\n",
    "    my_list.append(n)\n",
    "    count = count + 1\n",
    "\n",
    "# Now get the average\n",
    "numerator = sum(my_list)\n",
    "denominator = count\n",
    "average = numerator / denominator\n",
    "\n",
    "# Now make a list of those numbers that are above average\n",
    "above_average = []\n",
    "for value in my_list:\n",
    "    if value > average:\n",
    "        above_average.append(value)\n",
    "\n",
    "\n",
    "print(f'The random numbers are {my_list}')\n",
    "print(f'The average is {average}')\n",
    "print('The above-average values are...')\n",
    "for num in above_average:\n",
    "    print(f'  {num}')"
   ]
  },
  {
   "cell_type": "markdown",
   "id": "299b0729-788c-413d-8dd5-95f0141668aa",
   "metadata": {},
   "source": [
    "## Challenge\n",
    "\n",
    "Make a list of the home sale prices that are more than 25% from the median sale price. Python can calculate the median for you. Import the _statistics_ module, and from it, call `statistics.median`. For example:\n",
    "```\n",
    "import statistics\n",
    "\n",
    "numbers = [1, 2, 3, 4, 5]\n",
    "median = statistics.median(numbers)\n",
    "print(f'The median is {median}')\n",
    "```"
   ]
  },
  {
   "cell_type": "code",
   "execution_count": null,
   "id": "34087cde-cf00-4788-81c8-569cae9f69bf",
   "metadata": {},
   "outputs": [],
   "source": [
    "# Assume sale prices are in $1000's\n",
    "import statistics\n",
    "\n",
    "sale_prices = [220.4, 187.0, 242.6, 179.9, 110.5, 190.1, 275.9]\n",
    "median = statistics.median(sale_prices)\n",
    "\n",
    "result = []\n",
    "for price in sale_prices:\n",
    "    distance_from_median = abs(price - median)\n",
    "    if distance_from_median > .25 * median:\n",
    "        result.append(price)\n",
    "\n",
    "print(f'The median sale price is {median}')\n",
    "\n",
    "if len(result) == 0:\n",
    "    print('No prices are more than 25% from the median.')\n",
    "else:\n",
    "    print(f'These prices are more than 25% from the median:')\n",
    "    for p in result:\n",
    "        print(f'  {p}')"
   ]
  },
  {
   "cell_type": "markdown",
   "id": "b08dad08-a1ab-4243-ac0f-2ae910399b41",
   "metadata": {},
   "source": [
    "## Build new List from Old"
   ]
  },
  {
   "cell_type": "code",
   "execution_count": null,
   "id": "61ebb5dd-a46e-407d-8313-66ce4ba4ec2b",
   "metadata": {},
   "outputs": [],
   "source": [
    "dirty_data = ['y', 'n', 'what?', 'um...', 'n', 'y', 'N/A']\n",
    "clean_data = []\n",
    "\n",
    "for response in dirty_data:\n",
    "    if response == 'y' or response == 'n':\n",
    "        # Keep the good responses only\n",
    "        clean_data.append(response)\n",
    "        \n",
    "print(f'Clean data: {clean_data}')"
   ]
  }
 ],
 "metadata": {
  "kernelspec": {
   "display_name": "Python 3 (ipykernel)",
   "language": "python",
   "name": "python3"
  },
  "language_info": {
   "codemirror_mode": {
    "name": "ipython",
    "version": 3
   },
   "file_extension": ".py",
   "mimetype": "text/x-python",
   "name": "python",
   "nbconvert_exporter": "python",
   "pygments_lexer": "ipython3",
   "version": "3.9.12"
  }
 },
 "nbformat": 4,
 "nbformat_minor": 5
}
